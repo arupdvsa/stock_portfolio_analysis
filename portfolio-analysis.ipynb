{
 "cells": [
  {
   "cell_type": "markdown",
   "metadata": {},
   "source": [
    "!pip install pandas-datareader\n",
    "\n",
    "!pip install PyPortfolioOpt\n",
    "\n",
    "!pip install plotly"
   ]
  },
  {
   "cell_type": "code",
   "execution_count": 271,
   "metadata": {},
   "outputs": [],
   "source": [
    "from pandas_datareader.data import DataReader\n",
    "from pypfopt.discrete_allocation import DiscreteAllocation, get_latest_prices\n",
    "from pypfopt import EfficientFrontier\n",
    "from pypfopt import risk_models\n",
    "from pypfopt import expected_returns\n",
    "from pypfopt import plotting\n",
    "import copy\n",
    "import numpy as np\n",
    "import pandas as pd\n",
    "import plotly.express as px\n",
    "import matplotlib.pyplot as plt\n",
    "import seaborn as sns\n",
    "import streamlit as st\n",
    "import yfinance as yf\n",
    "import pandas_market_calendars as mcal\n",
    "import datetime"
   ]
  },
  {
   "cell_type": "markdown",
   "metadata": {},
   "source": [
    "## Initialize Portfolio data from spreadsheet"
   ]
  },
  {
   "cell_type": "code",
   "execution_count": 272,
   "metadata": {},
   "outputs": [],
   "source": [
    "portfolio_df = pd.read_csv('portfolio-arup-isa.csv')\n",
    "portfolio_df['Open date'] = pd.to_datetime(portfolio_df['Open date'])\n",
    "\n",
    "symbols = portfolio_df.Symbol.unique()\n",
    "stocks_start = datetime.datetime(2021, 5, 21)\n",
    "stocks_end = datetime.datetime(2022, 11, 4)"
   ]
  },
  {
   "cell_type": "markdown",
   "metadata": {},
   "source": [
    "## get_data function\n",
    "The get_data function takes an array of stock tickers along with a start and end date, and then grabs the data using the yfinance library listed above. You’ll notice the end date parameter includes a timedelta shift, this is because yfinance is exclusive of the end date you provide. Since we don’t want to remember this caveat when setting our parameters, we’ll shift the date+1 here using timedelta"
   ]
  },
  {
   "cell_type": "code",
   "execution_count": 273,
   "metadata": {},
   "outputs": [],
   "source": [
    "def get_data(stocks, start, end):\n",
    "    def data(ticker):\n",
    "        df = yf.download(ticker, start=start, end=(end + datetime.timedelta(days=1)))\n",
    "        df['symbol'] = ticker\n",
    "        df.index = pd.to_datetime(df.index)\n",
    "        return df\n",
    "    datas = map(data, stocks)\n",
    "    return(pd.concat(datas, keys=stocks, names=['Ticker', 'Date'], sort=True))"
   ]
  },
  {
   "cell_type": "markdown",
   "metadata": {},
   "source": [
    "## Test get_data"
   ]
  },
  {
   "cell_type": "code",
   "execution_count": 274,
   "metadata": {},
   "outputs": [
    {
     "name": "stdout",
     "output_type": "stream",
     "text": [
      "[*********************100%***********************]  1 of 1 completed\n",
      "[*********************100%***********************]  1 of 1 completed\n",
      "[*********************100%***********************]  1 of 1 completed\n",
      "[*********************100%***********************]  1 of 1 completed\n",
      "[*********************100%***********************]  1 of 1 completed\n",
      "[*********************100%***********************]  1 of 1 completed\n",
      "[*********************100%***********************]  1 of 1 completed\n",
      "[*********************100%***********************]  1 of 1 completed\n",
      "[*********************100%***********************]  1 of 1 completed\n"
     ]
    }
   ],
   "source": [
    "daily_adj_close = get_data(symbols, stocks_start, stocks_end)\n",
    "daily_adj_close = daily_adj_close[['Close']].reset_index()\n",
    "#tickers = daily_adj_close['Ticker'].unique()\n",
    "#display(tickers)"
   ]
  },
  {
   "cell_type": "markdown",
   "metadata": {},
   "source": [
    "## get_benchmark function \n",
    "just feeds into get_data and then drops the ticker symbol. Now that we have our initial functions let’s run the following to assign everything to variables"
   ]
  },
  {
   "cell_type": "code",
   "execution_count": 275,
   "metadata": {},
   "outputs": [],
   "source": [
    "def get_benchmark(benchmark, start, end):\n",
    "    benchmark = get_data(benchmark, start, end)\n",
    "    benchmark = benchmark.drop(['symbol'], axis=1)\n",
    "    benchmark.reset_index(inplace=True)\n",
    "    return benchmark"
   ]
  },
  {
   "cell_type": "markdown",
   "metadata": {},
   "source": [
    "## Test get_benchmark"
   ]
  },
  {
   "cell_type": "code",
   "execution_count": 276,
   "metadata": {},
   "outputs": [
    {
     "name": "stdout",
     "output_type": "stream",
     "text": [
      "[*********************100%***********************]  1 of 1 completed\n"
     ]
    },
    {
     "data": {
      "text/html": [
       "<div>\n",
       "<style scoped>\n",
       "    .dataframe tbody tr th:only-of-type {\n",
       "        vertical-align: middle;\n",
       "    }\n",
       "\n",
       "    .dataframe tbody tr th {\n",
       "        vertical-align: top;\n",
       "    }\n",
       "\n",
       "    .dataframe thead th {\n",
       "        text-align: right;\n",
       "    }\n",
       "</style>\n",
       "<table border=\"1\" class=\"dataframe\">\n",
       "  <thead>\n",
       "    <tr style=\"text-align: right;\">\n",
       "      <th></th>\n",
       "      <th>Date</th>\n",
       "      <th>Close</th>\n",
       "    </tr>\n",
       "  </thead>\n",
       "  <tbody>\n",
       "    <tr>\n",
       "      <th>0</th>\n",
       "      <td>2021-05-21</td>\n",
       "      <td>7018.100098</td>\n",
       "    </tr>\n",
       "    <tr>\n",
       "      <th>1</th>\n",
       "      <td>2021-05-24</td>\n",
       "      <td>7051.600098</td>\n",
       "    </tr>\n",
       "    <tr>\n",
       "      <th>2</th>\n",
       "      <td>2021-05-25</td>\n",
       "      <td>7029.799805</td>\n",
       "    </tr>\n",
       "    <tr>\n",
       "      <th>3</th>\n",
       "      <td>2021-05-26</td>\n",
       "      <td>7026.899902</td>\n",
       "    </tr>\n",
       "    <tr>\n",
       "      <th>4</th>\n",
       "      <td>2021-05-27</td>\n",
       "      <td>7019.700195</td>\n",
       "    </tr>\n",
       "  </tbody>\n",
       "</table>\n",
       "</div>"
      ],
      "text/plain": [
       "        Date        Close\n",
       "0 2021-05-21  7018.100098\n",
       "1 2021-05-24  7051.600098\n",
       "2 2021-05-25  7029.799805\n",
       "3 2021-05-26  7026.899902\n",
       "4 2021-05-27  7019.700195"
      ]
     },
     "execution_count": 276,
     "metadata": {},
     "output_type": "execute_result"
    }
   ],
   "source": [
    "#daily_benchmark = get_benchmark(['SPY'], stocks_start, stocks_end)\n",
    "daily_benchmark = get_benchmark(['^FTSE'], stocks_start, stocks_end)\n",
    "daily_benchmark = daily_benchmark[['Date', 'Close']]\n",
    "daily_benchmark.head()"
   ]
  },
  {
   "cell_type": "markdown",
   "metadata": {},
   "source": [
    "## create_market_cal\n",
    "The first function we are writing is called create_market_cal and uses the pandas_market_calendars library to find all relevant trading days within a specified timeframe. This library automatically filters out non-trading days based on the market, so I don’t need to worry about trying to join data to invalid dates by using something like pandas.date_range. Since my stocks are all US-based, I’ll select NYSE as my calendar, and then standardize the timestamps to make them easy to join on later."
   ]
  },
  {
   "cell_type": "code",
   "execution_count": 277,
   "metadata": {},
   "outputs": [],
   "source": [
    "def create_market_cal(exchange,stocks_start, stocks_end):\n",
    "    calendar = mcal.get_calendar(exchange)\n",
    "    #calendar = mcal.get_calendar('LSE')\n",
    "    schedule = calendar.schedule(stocks_start, stocks_end)\n",
    "    market_cal = mcal.date_range(schedule, frequency='1D')\n",
    "    market_cal = market_cal.tz_localize(None)\n",
    "    market_cal = [i.replace(hour=0) for i in market_cal]\n",
    "    return market_cal"
   ]
  },
  {
   "cell_type": "markdown",
   "metadata": {},
   "source": [
    "## Test create_market_cal"
   ]
  },
  {
   "cell_type": "code",
   "execution_count": 278,
   "metadata": {},
   "outputs": [],
   "source": [
    "market_cal = create_market_cal('NYSE',stocks_start, stocks_end)\n",
    "#display(market_cal)"
   ]
  },
  {
   "cell_type": "markdown",
   "metadata": {},
   "source": [
    "## Finding our Initial Active Portfolio\n",
    "Now that we have these four datasets, we need to figure out how many shares we actively held during the start date specified. To do that, we’re going to create two functions, portfolio_start_balance and position_adjust."
   ]
  },
  {
   "cell_type": "code",
   "execution_count": 280,
   "metadata": {},
   "outputs": [],
   "source": [
    "def position_adjust(daily_positions, sale):\n",
    "    stocks_with_sales = pd.DataFrame()\n",
    "    buys_before_start = daily_positions[daily_positions['Type'] == 'Buy'].sort_values(by='Open date')\n",
    "    for position in buys_before_start[buys_before_start['Symbol'] == sale[1]['Symbol']].iterrows():\n",
    "        if position[1]['Qty'] <= sale[1]['Qty']:\n",
    "            sale[1]['Qty'] -= position[1]['Qty']\n",
    "            position[1]['Qty'] = 0\n",
    "        else:\n",
    "            position[1]['Qty'] -= sale[1]['Qty']\n",
    "            sale[1]['Qty'] -= sale[1]['Qty']\n",
    "        stocks_with_sales = pd.concat([stocks_with_sales,position[1]])\n",
    "    return stocks_with_sales\n",
    "\n",
    "\n",
    "def portfolio_start_balance(portfolio, start_date):\n",
    "    positions_before_start = portfolio[portfolio['Open date'] <= start_date]\n",
    "    future_positions = portfolio[portfolio['Open date'] >= start_date]\n",
    "    sales = positions_before_start[positions_before_start['Type'] == 'Sell.FIFO'].groupby(['Symbol'])['Qty'].sum()\n",
    "    sales = sales.reset_index()\n",
    "    positions_no_change = positions_before_start[~positions_before_start['Symbol'].isin(sales['Symbol'].unique())]\n",
    "    adj_positions_df = pd.DataFrame()\n",
    "    for sale in sales.iterrows():\n",
    "        adj_positions = position_adjust(positions_before_start, sale)\n",
    "        adj_positions_df = pd.concat([adj_positions_df,adj_positions])\n",
    "    adj_positions_df = pd.concat([adj_positions_df,positions_no_change])\n",
    "    adj_positions_df = pd.concat([adj_positions_df,future_positions])\n",
    "    adj_positions_df = adj_positions_df[adj_positions_df['Qty'] > 0]\n",
    "    return adj_positions_df\n"
   ]
  },
  {
   "cell_type": "markdown",
   "metadata": {},
   "source": [
    "## portfolio_start_balance"
   ]
  },
  {
   "cell_type": "markdown",
   "metadata": {},
   "source": [
    "First, we supply our CSV data and start date to the portfolio_start_balance function and create a dataframe of all trades that happened before our start date. We’ll then check to see if there are future sales after the start_date since we will reconstruct a snapshot of this dataframe in the end\n",
    "```\n",
    "positions_before_start = portfolio[portfolio['Open date'] <= start_date]\n",
    "future_sales = portfolio[(portfolio['Open date'] >= start_date) & (portfolio['Type'] == 'Sell.FIFO')]\n",
    "```"
   ]
  },
  {
   "cell_type": "markdown",
   "metadata": {},
   "source": [
    "We’ll then create a dataframe of sales that occurred before the start_date. We need to make sure that these are all factored out of our active portfolio on the specified start_date:"
   ]
  },
  {
   "cell_type": "markdown",
   "metadata": {},
   "source": [
    "```\n",
    "sales = positions_before_start[positions_before_start['Type'] == 'Sell.FIFO'].groupby(['Symbol'])['Qty'].sum()\n",
    "sales = sales.reset_index()\n",
    "```"
   ]
  },
  {
   "cell_type": "markdown",
   "metadata": {},
   "source": [
    "Next, we’ll make a final dataframe of positions that did not have any sales occur over the specified time period:\n",
    "```\n",
    "positions_no_change = positions_before_start[~positions_before_start['Symbol'].isin(sales['Symbol'].unique())]\n",
    "```"
   ]
  },
  {
   "cell_type": "markdown",
   "metadata": {},
   "source": [
    "Now we’ll loop through every sale in our sales dataframe, call our position_adjust function, and then append the output of that into our empty adj_postitions_df:\n",
    "\n",
    "```\n",
    "\n",
    "adj_positions_df = pd.DataFrame()\n",
    "for sale in sales.iterrows():\n",
    "adj_positions = position_adjust(positions_before_start, sale)\n",
    "adj_positions_df = adj_positions_df.append(adj_positions)\n",
    "\n",
    "```"
   ]
  },
  {
   "cell_type": "markdown",
   "metadata": {},
   "source": [
    "Let’s now look at how the position_adjust function works so we can fully understand what’s going on here.\n",
    "\n",
    "### position_adjust\n",
    "First, we’ll create an empty dataframe called stocks_with_sales where we’ll later add adjusted positions, and another dataframe holding all of the transactions labeled as ‘buys’.\n",
    "\n",
    "Remember that we already filtered out ‘buys in the future’ in the portfolio_start_balance function, so no need to do it again here. You’ll also notice that we’re sorting by ‘Open Date’, and that will be important given we want to subtract positions using the FIFO method. By sorting the dates, we know we can move iteratively through a list of old-to-new positions:\n",
    "\n",
    "```\n",
    "stocks_with_sales = pd.DataFrame()    \n",
    "buys_before_start = daily_positions[daily_positions['Type'] == 'Buy'].sort_values(by='Open date')\n",
    "```\n",
    "\n",
    "Now that we have all buys in a single dataframe, we’re going to filter for all buys where the stock symbol matches the stock symbol of the sold position:\n",
    "\n",
    "```\n",
    "for position in buys_before_start[buys_before_start['Symbol'] == sale[1]['Symbol']].iterrows():\n",
    "```\n",
    "\n",
    "You’ll notice that we’re using indexing to access the ‘Symbol’ column in our data. That’s because using iterrows() creates a tuple from the index [0] and the series of data [1]. This is the same reason we’ll use indexing when we loop through buys_before_start:\n",
    "\n",
    "```\n",
    "for position in buys_before_start[buys_before_start['Symbol'] == sale[1]['Symbol']].iterrows():\n",
    "        if position[1]['Qty'] <= sale[1]['Qty']:\n",
    "            sale[1]['Qty'] -= position[1]['Qty']\n",
    "            position[1]['Qty'] = 0\n",
    "        else:\n",
    "            position[1]['Qty'] -= sale[1]['Qty']\n",
    "            sale[1]['Qty'] -= sale[1]['Qty']\n",
    "        stocks_with_sales = stocks_with_sales.append(position[1])\n",
    "```\n",
    "So what’s happening in the loop here is that for every buy in \n",
    "### buys_before_start:\n",
    "\n",
    "If the quantity of the oldest buy amount is ≤ the sold quantity (aka you sold more than your initial purchase amount), subtract the amount of the buy position from the sell, then set the buy quantity to 0\n",
    "Else (the amount you bought on a certain day > the quantity sold), subtract the sales quantity from the buy position, then subtract that same amount from the sales position\n",
    "Append that adjusted position to our empty stock_with_sales dataframe\n",
    "Once that loops through every sales position your code will now execute the final lines of portfolio_start_balance:\n",
    "\n",
    "```\n",
    "adj_positions_df = adj_positions_df.append(positions_no_change)\n",
    "adj_positions_df = adj_positions_df.append(future_sales)\n",
    "adj_positions_df = adj_positions_df[adj_positions_df['Qty'] > 0]\n",
    "```\n",
    "So we’re taking our adjusted positions in adj_positions_df, adding back positions that never had sales, adding back sales that occur in the future, and finally filtering out any rows that position_adjust zeroed out. You should now have an accurate record of your active holdings as of the start date!"
   ]
  },
  {
   "cell_type": "code",
   "execution_count": 281,
   "metadata": {},
   "outputs": [],
   "source": [
    "\n",
    "def portfolio_start_balance(portfolio, start_date):\n",
    "    positions_before_start = portfolio[portfolio['Open date'] <= start_date]\n",
    "    future_positions = portfolio[portfolio['Open date'] >= start_date]\n",
    "    sales = positions_before_start[positions_before_start['Type'] == 'Sell.FIFO'].groupby(['Symbol'])['Qty'].sum()\n",
    "    sales = sales.reset_index()\n",
    "    positions_no_change = positions_before_start[~positions_before_start['Symbol'].isin(sales['Symbol'].unique())]\n",
    "    adj_positions_df = pd.DataFrame()\n",
    "    for sale in sales.iterrows():\n",
    "        adj_positions = position_adjust(positions_before_start, sale)\n",
    "        adj_positions_df = pd.concat([adj_positions_df,adj_positions])\n",
    "    adj_positions_df = pd.concat([adj_positions_df,positions_no_change])\n",
    "    adj_positions_df = pd.concat([adj_positions_df,future_positions])\n",
    "    adj_positions_df = adj_positions_df[adj_positions_df['Qty'] > 0]\n",
    "    return adj_positions_df\n"
   ]
  },
  {
   "cell_type": "markdown",
   "metadata": {},
   "source": [
    "### Creating Daily Performance Snapshots\n",
    "So now that we have an accurate statement of positions held at the start date, let’s create daily performance data! Our strategy is similar to what we did in step 2, in fact, we’ll re-use the position_adjust method again since we’ll need to account for potential sales within our date range. We’ll go ahead and create two new functions, time_fill and fifo, and I’ll explain what each does in more detail:\n"
   ]
  },
  {
   "cell_type": "code",
   "execution_count": 282,
   "metadata": {},
   "outputs": [],
   "source": [
    "def fifo(daily_positions, sales, date):\n",
    "    sales = sales[sales['Open date'] == date]\n",
    "    daily_positions = daily_positions[daily_positions['Open date'] <= date]\n",
    "    positions_no_change = daily_positions[~daily_positions['Symbol'].isin(sales['Symbol'].unique())]\n",
    "    adj_positions = pd.DataFrame()\n",
    "    for sale in sales.iterrows():\n",
    "        adj_positions = pd.concat([adj_positions,position_adjust(daily_positions, sale)])\n",
    "    adj_positions = pd.concat([adj_positions,positions_no_change])\n",
    "    adj_positions = adj_positions[adj_positions['Qty'] > 0]\n",
    "    return adj_positions\n",
    "\n",
    "\n",
    "def time_fill(portfolio, market_cal):\n",
    "    sales = portfolio[portfolio['Type'] == 'Sell.FIFO'].groupby(['Symbol','Open date'])['Qty'].sum()\n",
    "    sales = sales.reset_index()\n",
    "    per_day_balance = []\n",
    "    for date in market_cal:\n",
    "        if (sales['Open date'] == date).any():\n",
    "            portfolio = fifo(portfolio, sales, date)\n",
    "        daily_positions = portfolio[portfolio['Open date'] <= date]\n",
    "        daily_positions = daily_positions[daily_positions['Type'] == 'Buy']\n",
    "        daily_positions['Date Snapshot'] = date\n",
    "        per_day_balance.append(daily_positions)\n",
    "    return per_day_balance"
   ]
  },
  {
   "cell_type": "markdown",
   "metadata": {},
   "source": [
    "### time_fill\n",
    "\n",
    "Similar to portfolio_start_balance, our goal is to provide our dataframe of active positions, find the sales, and zero-out sales against buy positions. The main difference here is that we are going to loop through using our market_cal list with valid trading days:\n",
    "```\n",
    "sales = portfolio[portfolio['Type'] == 'Sell.FIFO'].groupby(['Symbol','Open date'])['Qty'].sum()\n",
    "sales = sales.reset_index()\n",
    "per_day_balance = []\n",
    "for date in market_cal:\n",
    "        if (sales['Open date'] == date).any():\n",
    "            portfolio = fifo(portfolio, sales, date)\n",
    "```\n",
    "This way we can go day-by-day and see if any sales occurred, adjust positions correctly, and then return a correct snapshot of the daily data. In addition, we’ll also filter to positions that have occurred before or at the current date and make sure there are only buys. We’ll then add a Date Snapshot column with the current date in the market_cal loop, then append it to our \n",
    "\n",
    "#### per_day_balance list:\n",
    "```\n",
    "daily_positions = portfolio[portfolio['Open date'] <= date]\n",
    "daily_positions = daily_positions[daily_positions['Type'] == 'Buy']\n",
    "daily_positions['Date Snapshot'] = date\n",
    "per_day_balance.append(daily_positions)\n",
    "```"
   ]
  },
  {
   "cell_type": "markdown",
   "metadata": {},
   "source": [
    "### fifo\n",
    "Our fifo function takes your active portfolio positions, the sales dataframe created in time_fill, and the current date in the market_cal list. It then filters sales to find any that have occurred on the current date, and create a dataframe of positions not affected by sales:\n",
    "```\n",
    "sales = sales[sales['Open date'] == date]\n",
    "daily_positions = daily_positions[daily_positions['Open date'] <= date]\n",
    "positions_no_change = daily_positions[~daily_positions['Symbol']. isin(sales['Symbol'].unique())]\n",
    "```\n",
    "We’ll then use our trusty position_adjust function to zero-out any positions with active sales. If there were no sales for the specific date, our function will simply append the positions_no_change onto the empty adj_positions dataframe, leaving you with an accurate daily snapshot of positions:\n",
    "```\n",
    "adj_positions = pd.DataFrame()\n",
    "for sale in sales.iterrows():\n",
    "    adj_positions = adj_positions.append(position_adjust( daily_positions, sale))\n",
    "adj_positions = adj_positions.append(positions_no_change)\n",
    "adj_positions = adj_positions[adj_positions['Qty'] > 0]\n",
    "```\n",
    "Running this line of code should return back a list of all trading days within the time range specified, along with an accurate count of positions per-day:\n",
    "```\n",
    "positions_per_day = time_fill(active_portfolio, market_cal)\n",
    "```\n"
   ]
  },
  {
   "cell_type": "code",
   "execution_count": 283,
   "metadata": {},
   "outputs": [],
   "source": [
    "# matches prices of each asset to open date, then adjusts for  cps of dates\n",
    "def modified_cost_per_share(portfolio, adj_close, start_date):\n",
    "    df = pd.merge(portfolio, adj_close, left_on=['Date Snapshot', 'Symbol'],\n",
    "                  right_on=['Date', 'Ticker'], how='left')\n",
    "    df.rename(columns={'Close': 'Symbol Adj Close'}, inplace=True)\n",
    "    df['Adj cost daily'] = df['Symbol Adj Close'] * df['Qty']\n",
    "    df = df.drop(['Ticker', 'Date'], axis=1)\n",
    "    return df\n",
    "\n",
    "\n",
    "# merge portfolio data with latest benchmark data and create several calcs\n",
    "def benchmark_portfolio_calcs(portfolio, benchmark):\n",
    "    portfolio = pd.merge(portfolio, benchmark, left_on=['Date Snapshot'],\n",
    "                         right_on=['Date'], how='left')\n",
    "    portfolio = portfolio.drop(['Date'], axis=1)\n",
    "    portfolio.rename(columns={'Close': 'Benchmark Close'}, inplace=True)\n",
    "    benchmark_max = benchmark[benchmark['Date'] == benchmark['Date'].max()]\n",
    "    portfolio['Benchmark End Date Close'] = portfolio.apply(lambda x: benchmark_max['Close'], axis=1)\n",
    "    benchmark_min = benchmark[benchmark['Date'] == benchmark['Date'].min()]\n",
    "    portfolio['Benchmark Start Date Close'] = portfolio.apply(lambda x: benchmark_min['Close'], axis=1)\n",
    "    return portfolio\n",
    "\n",
    "\n",
    "def portfolio_end_of_year_stats(portfolio, adj_close_end):\n",
    "    adj_close_end = adj_close_end[adj_close_end['Date'] == adj_close_end['Date'].max()]\n",
    "    portfolio_end_data = pd.merge(portfolio, adj_close_end, left_on='Symbol',\n",
    "                                  right_on='Ticker')\n",
    "    portfolio_end_data.rename(columns={'Close': 'Ticker End Date Close'}, inplace=True)\n",
    "    portfolio_end_data = portfolio_end_data.drop(['Ticker', 'Date'], axis=1)\n",
    "    return portfolio_end_data\n",
    "\n",
    "\n",
    "# Merge the overall dataframe with the adj close start of year dataframe for YTD tracking of tickers.\n",
    "def portfolio_start_of_year_stats(portfolio, adj_close_start):\n",
    "    adj_close_start = adj_close_start[adj_close_start['Date'] == adj_close_start['Date'].min()]\n",
    "    portfolio_start = pd.merge(portfolio, adj_close_start[['Ticker', 'Close', 'Date']],\n",
    "                                    left_on='Symbol', right_on='Ticker')\n",
    "    portfolio_start.rename(columns={'Close': 'Ticker Start Date Close'}, inplace=True)\n",
    "    portfolio_start['Adj cost per share'] = np.where(portfolio_start['Open date'] <= portfolio_start['Date'],\n",
    "                                                          portfolio_start['Ticker Start Date Close'],\n",
    "                                                          portfolio_start['Adj cost per share'])\n",
    "    portfolio_start['Adj cost'] = portfolio_start['Adj cost per share'] * portfolio_start['Qty']\n",
    "    portfolio_start = portfolio_start.drop(['Ticker', 'Date'], axis=1)\n",
    "    portfolio_start['Equiv Benchmark Shares'] = portfolio_start['Adj cost'] / portfolio_start['Benchmark Start Date Close']\n",
    "    portfolio_start['Benchmark Start Date Cost'] = portfolio_start['Equiv Benchmark Shares'] * portfolio_start['Benchmark Start Date Close']\n",
    "    return portfolio_start\n",
    "\n",
    "\n",
    "def calc_returns(portfolio):\n",
    "    portfolio['Benchmark Return'] = portfolio['Benchmark Close'] / portfolio['Benchmark Start Date Close'] - 1\n",
    "    portfolio['Ticker Return'] = portfolio['Symbol Adj Close'] / portfolio['Adj cost per share'] - 1\n",
    "    portfolio['Ticker Share Value'] = portfolio['Qty'] * portfolio['Symbol Adj Close']\n",
    "    portfolio['Benchmark Share Value'] = portfolio['Equiv Benchmark Shares'] * portfolio['Benchmark Close']\n",
    "    portfolio['Stock Gain / (Loss)'] = portfolio['Ticker Share Value'] - portfolio['Adj cost']\n",
    "    portfolio['Benchmark Gain / (Loss)'] = portfolio['Benchmark Share Value'] - portfolio['Adj cost']\n",
    "    portfolio['Abs Value Compare'] = portfolio['Ticker Share Value'] - portfolio['Benchmark Start Date Cost']\n",
    "    portfolio['Abs Value Return'] = portfolio['Abs Value Compare']/portfolio['Benchmark Start Date Cost']\n",
    "    portfolio['Abs. Return Compare'] = portfolio['Ticker Return'] - portfolio['Benchmark Return']\n",
    "    return portfolio\n",
    "\n",
    "\n",
    "def per_day_portfolio_calcs(per_day_holdings, daily_benchmark, daily_adj_close, stocks_start):\n",
    "    df = pd.concat(per_day_holdings, sort=True)\n",
    "    mcps = modified_cost_per_share(df, daily_adj_close, stocks_start)\n",
    "    bpc = benchmark_portfolio_calcs(mcps, daily_benchmark)\n",
    "    pes = portfolio_end_of_year_stats(bpc, daily_adj_close)\n",
    "    pss = portfolio_start_of_year_stats(pes, daily_adj_close)\n",
    "    returns = calc_returns(pss)\n",
    "    return returns\n"
   ]
  },
  {
   "cell_type": "markdown",
   "metadata": {},
   "source": [
    "Let’s start with the last function per_day_portfolio_calcs since it will use all the other functions.\n",
    "\n",
    "#### per_day_portfolio_calcs\n",
    "Now that we have our positions_per_day from step 3, our goal is to pass that along with daily_benchmark, daily_adj_close, and stocks_start to this new function:\n",
    "\n",
    "```\n",
    "combined_df = per_day_portfolio_calcs(positions_per_day, daily_benchmark, daily_adj_close, stocks_start)\n",
    "\n",
    "```\n",
    "\n",
    "We’ll then concatenate our list of dataframes into a single list using pd.concat:\n",
    "```\n",
    "df = pd.concat(per_day_holdings, sort=True)\n",
    "```\n",
    "Now that we have a single large dataframe we’ll pass it to the remaining functions in per_day_portfolio_calcs.\n",
    "\n",
    "#### modified_cost_per_share\n",
    "If we want to track daily performance we’ll need to know the theoretical value of our holdings per day. This requires taking the amount of securities currently owned and then multiplying it by the daily close for each security owned.\n",
    "\n",
    "```\n",
    "mcps = modified_cost_per_share(df, daily_adj_close, stocks_start)\n",
    "```\n",
    "\n",
    "To do this, we provide our new single df along with the per-day data we pulled using yfinance, as well as our start date. We’ll then merge our portfolio to the daily close data by joining the date of the portfolio snapshot to the date of the daily data, as well as joining on the ticker. For people more familiar with SQL this is essentially a left join:\n",
    "\n",
    "```\n",
    "\n",
    "df = pd.merge(portfolio, adj_close, left_on=['Date Snapshot', 'Symbol'],right_on=['Date', 'Ticker'], how='left')\n",
    "\n",
    "```\n",
    "\n",
    "Once we have our merged df we’ll rename the daily close to ‘Symbol Adj Close’, and then multiply the daily close by the quantity of shares owned. Dropping extra columns will return the dataframe we need to proceed:\n",
    "\n",
    "```\n",
    "df.rename(columns={'Close': 'Symbol Adj Close'}, inplace=True)\n",
    "df['Adj cost daily'] = df['Symbol Adj Close'] * df['Qty']\n",
    "df = df.drop(['Ticker', 'Date'], axis=1)\n",
    "```\n",
    "\n",
    "#### benchmark_portfolio_calcs\n",
    "Now that we have an accurate daily cost of our securities, we’ll want to add in our benchmark to the dataset in order to make comparisons against our portfolio:\n",
    "\n",
    "```\n",
    "bpc = benchmark_portfolio_calcs(mcps, daily_benchmark)\n",
    "```\n",
    "\n",
    "We start by merging our daily benchmark data to the correct snapshots by using a merge similar to the one in modified_cost_per_share:\n",
    "\n",
    "```\n",
    "portfolio = pd.merge(portfolio, benchmark, left_on=['Date Snapshot'], right_on=['Date'], how='left')\n",
    "portfolio = portfolio.drop(['Date'], axis=1)\n",
    "portfolio.rename(columns={'Close': 'Benchmark Close'}, inplace=True)\n",
    "```\n",
    "\n",
    "Now that we have daily closes for our benchmark merged to our portfolio dataset, we’ll filter our daily_benchmark data based on its max and min dates. It’s important to use max and min vs. your start and end date because the max/min will take into account days where the market was open:\n",
    "\n",
    "```\n",
    "benchmark_max = benchmark[benchmark['Date'] == benchmark['Date'].max()]\n",
    "portfolio['Benchmark End Date Close'] = portfolio.apply(lambda x: benchmark_max['Close'], axis=1)\n",
    "benchmark_min = benchmark[benchmark['Date'] == benchmark['Date'].min()]\n",
    "portfolio['Benchmark Start Date Close'] = portfolio.apply(lambda x: benchmark_min['Close'], axis=1)\n",
    "```\n",
    "\n",
    "Great! So now we have absolute start and end closes for our benchmark in the portfolio dataset as well, which will be important when calculating returns on a daily basis.\n",
    "\n",
    "#### portfolio_end_of_year_stats\n",
    "So now that our benchmark data is added, let’s move onto the next step:\n",
    "\n",
    "```\n",
    "pes = portfolio_end_of_year_stats(bpc, daily_adj_close)\n",
    "```\n",
    "\n",
    "Our goal here is to take the output of benchmark_portfolio_calcs, find the last day of close for all the stocks in the portfolio, and then add a Ticker End Date Close column to our portfolio dataset. We’ll do this by once again merging to the daily stock data, filtering for the max date, and then joining based on the ticker symbol:\n",
    "\n",
    "```\n",
    "adj_close_end = adj_close_end[adj_close_end['Date'] == adj_close_end['Date'].max()]\n",
    "portfolio_end_data = pd.merge(portfolio, adj_close_end, left_on='Symbol', right_on='Ticker')\n",
    "portfolio_end_data.rename(columns={'Close': 'Ticker End Date Close'}, inplace=True)\n",
    "portfolio_end_data = portfolio_end_data.drop(['Ticker', 'Date'], axis=1)\n",
    "```\n",
    "\n",
    "Now just one more step until we generate our calculations!\n",
    "\n",
    "#### portfolio_start_of_year_stats\n",
    "This final step takes the updated portfolio dataframe, the daily stock data from yfinance, and assigns start of year equivalent positions for the benchmark:\n",
    "\n",
    "```\n",
    "pss = portfolio_start_of_year_stats(pes, daily_adj_close)\n",
    "```\n",
    "\n",
    "We’ll first filter the daily close data to its beginning date, then merge our portfolio data to it using the ticker symbol. We’ll then call this close Ticker Start Date Close for convenience:\n",
    "\n",
    "```\n",
    "adj_close_start = adj_close_start[adj_close_start['Date'] == adj_close_start['Date'].min()]\n",
    "portfolio_start = pd.merge(portfolio, adj_close_start[['Ticker', 'Close', 'Date']], left_on='Symbol', right_on='Ticker')\n",
    "portfolio_start.rename(columns={'Close': 'Ticker Start Date Close'}, inplace=True)\n",
    "```\n",
    "\n",
    "Then we need to ‘true up’ our adjusted cost per share costs, but why? Imagine you bought Google a long time ago at $500/share, but now you want to calculate YTD returns on your position in 2020. If you use $500 as your cost basis for the beginning of 2020, you’re not going to have an accurate comparison since the cost basis is from years ago. To fix this, we’re going to use Numpy’s where function:\n",
    "\n",
    "```\n",
    "portfolio_start['Adj cost per share'] = np.where(portfolio_start['Open date'] <= portfolio_start['Date'],\n",
    "         portfolio_start['Ticker Start Date Close'],\n",
    "         portfolio_start['Adj cost per share'])\n",
    "```\n",
    "\n",
    "Simply put, this is saying ‘if the open date is ≤ the date of the start date, then Adj cost per share is equal to Ticker Start Date Close’ (closing price of the stock from the min date on the yfinance data). If not, then use the existing Adj cost per share.\n",
    "\n",
    "The remaining part modifies the adjusted cost based on the modified cost per share, drops unneeded columns from the merge, and then calculates the equivalent amount of benchmarks shares you would have owned based on your newly calculated adjusted cost:\n",
    "\n",
    "```\n",
    "portfolio_start['Adj cost'] = portfolio_start['Adj cost per share'] * portfolio_start['Qty']\n",
    "portfolio_start = portfolio_start.drop(['Ticker', 'Date'], axis=1)\n",
    "portfolio_start['Equiv Benchmark Shares'] = portfolio_start['Adj cost'] / portfolio_start['Benchmark Start Date Close']\n",
    "portfolio_start['Benchmark Start Date Cost'] = portfolio_start['Equiv Benchmark Shares'] * portfolio_start['Benchmark Start Date Close']\n",
    "\n",
    "```\n",
    "\n",
    "Congratulations, we now have all the necessary data to calculate returns properly! Let’s knock out this last section and then dive into visualizing this!\n",
    "\n",
    "\n",
    "#### calc_returns\n",
    "The final step here simply takes the aggregated dataframe from all the other functions, applies a bunch of calculations against the data we’ve been modifying, and returns a final dataframe:\n",
    "\n",
    "```\n",
    "returns = calc_returns(pss)\n",
    "```\n",
    "\n",
    "The first set,Benchmark Return and Ticker Return, both use a current close price divided by their beginning cost basis to calculate a return:\n",
    "\n",
    "```\n",
    "portfolio['Benchmark Return'] = portfolio['Benchmark Close'] / portfolio['Benchmark Start Date Close'] - 1\n",
    "portfolio['Ticker Return'] = portfolio['Symbol Adj Close'] / portfolio['Adj cost per share'] - 1\n",
    "\n",
    "```\n",
    "\n",
    "Share value for each is calculated the same way, using the modified per-day quantities and equivalent benchmark shares we calculated earlier:\n",
    "\n",
    "```\n",
    "portfolio['Ticker Share Value'] = portfolio['Qty'] * portfolio['Symbol Adj Close']\n",
    "portfolio['Benchmark Share Value'] = portfolio['Equiv Benchmark Shares'] * portfolio['Benchmark Close']\n",
    "```\n",
    "\n",
    "We’ll do the same thing again to calculate monetary gain/loss, subtracting the share value columns from the modified adjusted cost we calculated in the portfolio_start_of_year_stats function:\n",
    "\n",
    "```\n",
    "portfolio['Stock Gain / (Loss)'] = portfolio['Ticker Share Value'] - portfolio['Adj cost']\n",
    "portfolio['Benchmark Gain / (Loss)'] = portfolio['Benchmark Share Value'] - portfolio['Adj cost']\n",
    "```\n",
    "Finally, we’ll calculate absolute return values using the benchmark metrics we calculated earlier:\n",
    "\n",
    "```\n",
    "portfolio['Abs Value Compare'] = portfolio['Ticker Share Value'] - portfolio['Benchmark Start Date Cost']\n",
    "portfolio['Abs Value Return'] = portfolio['Abs Value Compare']/portfolio['Benchmark Start Date Cost']\n",
    "portfolio['Abs. Return Compare'] = portfolio['Ticker Return'] - portfolio['Benchmark Return']\n",
    "```\n",
    "\n",
    "Boom! Now let’s figure out how to graph our new data and finish this up."
   ]
  },
  {
   "cell_type": "markdown",
   "metadata": {},
   "source": [
    "### Visualization"
   ]
  },
  {
   "cell_type": "code",
   "execution_count": 284,
   "metadata": {},
   "outputs": [],
   "source": [
    "def line_facets(df, val_1, val_2):\n",
    "    grouped_metrics = df.groupby(['Symbol','Date Snapshot'])[[val_1,val_2]].sum().reset_index()\n",
    "    grouped_metrics = pd.melt(grouped_metrics, id_vars=['Symbol','Date Snapshot'],\n",
    "                              value_vars=[val_1, val_2])\n",
    "    fig = px.line(grouped_metrics, x=\"Date Snapshot\", y=\"value\",\n",
    "                  color='variable', facet_col=\"Symbol\", facet_col_wrap=5)\n",
    "    return fig\n",
    "    #plot(fig)\n",
    "    \n",
    "\n",
    "\n",
    "def line(df, val_1, val_2):\n",
    "    grouped_metrics = df.groupby(['Date Snapshot'])[[val_1,val_2]].sum().reset_index()\n",
    "    grouped_metrics = pd.melt(grouped_metrics, id_vars=['Date Snapshot'],\n",
    "                              value_vars=[val_1, val_2])\n",
    "    fig = px.line(grouped_metrics, x=\"Date Snapshot\", y=\"value\", \n",
    "                  color='variable')\n",
    "    return fig\n",
    "    #plot(fig)"
   ]
  },
  {
   "cell_type": "markdown",
   "metadata": {},
   "source": [
    "## Assigning the output to a variable should give you the active positions within your portfolio:"
   ]
  },
  {
   "cell_type": "code",
   "execution_count": 285,
   "metadata": {},
   "outputs": [
    {
     "name": "stdout",
     "output_type": "stream",
     "text": [
      "[*********************100%***********************]  1 of 1 completed\n",
      "[*********************100%***********************]  1 of 1 completed\n",
      "[*********************100%***********************]  1 of 1 completed\n",
      "[*********************100%***********************]  1 of 1 completed\n",
      "[*********************100%***********************]  1 of 1 completed\n"
     ]
    },
    {
     "data": {
      "application/vnd.plotly.v1+json": {
       "config": {
        "plotlyServerURL": "https://plot.ly"
       },
       "data": [
        {
         "hovertemplate": "variable=Ticker Return<br>Symbol=AAPL<br>Date Snapshot=%{x}<br>value=%{y}<extra></extra>",
         "legendgroup": "Ticker Return",
         "line": {
          "color": "#636efa",
          "dash": "solid"
         },
         "marker": {
          "symbol": "circle"
         },
         "mode": "lines",
         "name": "Ticker Return",
         "orientation": "v",
         "showlegend": true,
         "type": "scatter",
         "x": [
          "2022-08-26T00:00:00",
          "2022-08-29T00:00:00",
          "2022-08-30T00:00:00",
          "2022-08-31T00:00:00",
          "2022-09-01T00:00:00",
          "2022-09-02T00:00:00",
          "2022-09-06T00:00:00",
          "2022-09-07T00:00:00",
          "2022-09-08T00:00:00",
          "2022-09-09T00:00:00",
          "2022-09-12T00:00:00",
          "2022-09-13T00:00:00",
          "2022-09-14T00:00:00",
          "2022-09-15T00:00:00",
          "2022-09-16T00:00:00",
          "2022-09-19T00:00:00",
          "2022-09-20T00:00:00",
          "2022-09-21T00:00:00",
          "2022-09-22T00:00:00",
          "2022-09-23T00:00:00",
          "2022-09-26T00:00:00",
          "2022-09-27T00:00:00",
          "2022-09-28T00:00:00",
          "2022-09-29T00:00:00",
          "2022-09-30T00:00:00",
          "2022-10-03T00:00:00",
          "2022-10-04T00:00:00",
          "2022-10-05T00:00:00",
          "2022-10-06T00:00:00",
          "2022-10-07T00:00:00",
          "2022-10-10T00:00:00",
          "2022-10-11T00:00:00",
          "2022-10-12T00:00:00",
          "2022-10-13T00:00:00",
          "2022-10-14T00:00:00",
          "2022-10-17T00:00:00",
          "2022-10-18T00:00:00",
          "2022-10-19T00:00:00",
          "2022-10-20T00:00:00",
          "2022-10-21T00:00:00",
          "2022-10-24T00:00:00",
          "2022-10-25T00:00:00",
          "2022-10-26T00:00:00",
          "2022-10-27T00:00:00",
          "2022-10-28T00:00:00",
          "2022-10-31T00:00:00",
          "2022-11-01T00:00:00",
          "2022-11-02T00:00:00",
          "2022-11-03T00:00:00",
          "2022-11-04T00:00:00"
         ],
         "xaxis": "x",
         "y": [
          0,
          -0.027380397276881574,
          -0.057572321178774644,
          -0.07822997295532974,
          -0.06918455656066391,
          -0.09546507507227453,
          -0.11111106966334039,
          -0.09363144642357546,
          -0.11196661382075912,
          -0.07639653082159836,
          -0.0023224843793714367,
          -0.11954527650843971,
          -0.10157679753800242,
          -0.13751375547887723,
          -0.1579268861326122,
          -0.1117222792129069,
          -0.08214156486058011,
          -0.12101203021542473,
          -0.13299095402406036,
          -0.16122726848829627,
          -0.15707115546022576,
          -0.1449700643476639,
          -0.1684390562342628,
          -0.25840361839037573,
          -0.3107199477758089,
          -0.2587703068171221,
          -0.21415462090832782,
          -0.2104877366408655,
          -0.22234449314557492,
          -0.2876176443159564,
          -0.2835838851067798,
          -0.30118567565047094,
          -0.309008672946004,
          -0.25216954210575393,
          -0.3085196307003637,
          -0.25925916254779446,
          -0.2428797911032361,
          -0.2415352047001771,
          -0.24728023873915883,
          -0.19985321272032075,
          -0.1732061922969319,
          -0.13788044390562337,
          -0.17442842488109678,
          -0.23004513662221404,
          -0.09632061922969326,
          -0.1256569989741676,
          -0.15853809568217847,
          -0.22723379651217002,
          -0.3024079082346358,
          -0.32009102439456016
         ],
         "yaxis": "y"
        },
        {
         "hovertemplate": "variable=Ticker Return<br>Symbol=AMZN<br>Date Snapshot=%{x}<br>value=%{y}<extra></extra>",
         "legendgroup": "Ticker Return",
         "line": {
          "color": "#636efa",
          "dash": "solid"
         },
         "marker": {
          "symbol": "circle"
         },
         "mode": "lines",
         "name": "Ticker Return",
         "orientation": "v",
         "showlegend": false,
         "type": "scatter",
         "x": [
          "2022-08-26T00:00:00",
          "2022-08-29T00:00:00",
          "2022-08-30T00:00:00",
          "2022-08-31T00:00:00",
          "2022-09-01T00:00:00",
          "2022-09-02T00:00:00",
          "2022-09-06T00:00:00",
          "2022-09-07T00:00:00",
          "2022-09-08T00:00:00",
          "2022-09-09T00:00:00",
          "2022-09-12T00:00:00",
          "2022-09-13T00:00:00",
          "2022-09-14T00:00:00",
          "2022-09-15T00:00:00",
          "2022-09-16T00:00:00",
          "2022-09-19T00:00:00",
          "2022-09-20T00:00:00",
          "2022-09-21T00:00:00",
          "2022-09-22T00:00:00",
          "2022-09-23T00:00:00",
          "2022-09-26T00:00:00",
          "2022-09-27T00:00:00",
          "2022-09-28T00:00:00",
          "2022-09-29T00:00:00",
          "2022-09-30T00:00:00",
          "2022-10-03T00:00:00",
          "2022-10-04T00:00:00",
          "2022-10-05T00:00:00",
          "2022-10-06T00:00:00",
          "2022-10-07T00:00:00",
          "2022-10-10T00:00:00",
          "2022-10-11T00:00:00",
          "2022-10-12T00:00:00",
          "2022-10-13T00:00:00",
          "2022-10-14T00:00:00",
          "2022-10-17T00:00:00",
          "2022-10-18T00:00:00",
          "2022-10-19T00:00:00",
          "2022-10-20T00:00:00",
          "2022-10-21T00:00:00",
          "2022-10-24T00:00:00",
          "2022-10-25T00:00:00",
          "2022-10-26T00:00:00",
          "2022-10-27T00:00:00",
          "2022-10-28T00:00:00",
          "2022-10-31T00:00:00",
          "2022-11-01T00:00:00",
          "2022-11-02T00:00:00",
          "2022-11-03T00:00:00",
          "2022-11-04T00:00:00"
         ],
         "xaxis": "x2",
         "y": [
          0,
          -0.01468461512607555,
          -0.03089872692100859,
          -0.06087959245787533,
          -0.04481836030861608,
          -0.04956019676894119,
          -0.07097513406728018,
          -0.01942645158640066,
          -0.01422550938097511,
          0.0385469104774141,
          0.08718924586221322,
          -0.06011472742142687,
          -0.03365196096737577,
          -0.068374779666587,
          -0.11043978922681652,
          -0.0931548197000478,
          -0.13093686514101344,
          -0.18676862844317643,
          -0.20558321134082225,
          -0.2595793685767209,
          -0.23862330361944317,
          -0.2499425826063575,
          -0.19487568434064295,
          -0.2439770087685229,
          -0.2715105162523901,
          -0.22745702098022225,
          -0.14776296232672093,
          -0.14990444438635286,
          -0.1598469896480641,
          -0.24764822090105154,
          -0.26126197829529163,
          -0.28359466027575286,
          -0.2730401296232672,
          -0.27869982746773414,
          -0.3648183323001315,
          -0.2594263722290273,
          -0.22011471341718458,
          -0.23984704099695264,
          -0.23709369024856586,
          -0.17483748076750727,
          -0.16718929721110176,
          -0.1552581495354326,
          -0.23082212371534427,
          -0.3027151191667663,
          -0.41820262084727533,
          -0.4287263661934735,
          -0.5705430355436,
          -0.6877613377259151,
          -0.7585441441475704,
          -0.705486725314603
         ],
         "yaxis": "y2"
        },
        {
         "hovertemplate": "variable=Ticker Return<br>Symbol=GOOGL<br>Date Snapshot=%{x}<br>value=%{y}<extra></extra>",
         "legendgroup": "Ticker Return",
         "line": {
          "color": "#636efa",
          "dash": "solid"
         },
         "marker": {
          "symbol": "circle"
         },
         "mode": "lines",
         "name": "Ticker Return",
         "orientation": "v",
         "showlegend": false,
         "type": "scatter",
         "x": [
          "2022-08-26T00:00:00",
          "2022-08-29T00:00:00",
          "2022-08-30T00:00:00",
          "2022-08-31T00:00:00",
          "2022-09-01T00:00:00",
          "2022-09-02T00:00:00",
          "2022-09-06T00:00:00",
          "2022-09-07T00:00:00",
          "2022-09-08T00:00:00",
          "2022-09-09T00:00:00",
          "2022-09-12T00:00:00",
          "2022-09-13T00:00:00",
          "2022-09-14T00:00:00",
          "2022-09-15T00:00:00",
          "2022-09-16T00:00:00",
          "2022-09-19T00:00:00",
          "2022-09-20T00:00:00",
          "2022-09-21T00:00:00",
          "2022-09-22T00:00:00",
          "2022-09-23T00:00:00",
          "2022-09-26T00:00:00",
          "2022-09-27T00:00:00",
          "2022-09-28T00:00:00",
          "2022-09-29T00:00:00",
          "2022-09-30T00:00:00",
          "2022-10-03T00:00:00",
          "2022-10-04T00:00:00",
          "2022-10-05T00:00:00",
          "2022-10-06T00:00:00",
          "2022-10-07T00:00:00",
          "2022-10-10T00:00:00",
          "2022-10-11T00:00:00",
          "2022-10-12T00:00:00",
          "2022-10-13T00:00:00",
          "2022-10-14T00:00:00",
          "2022-10-17T00:00:00",
          "2022-10-18T00:00:00",
          "2022-10-19T00:00:00",
          "2022-10-20T00:00:00",
          "2022-10-21T00:00:00",
          "2022-10-24T00:00:00",
          "2022-10-25T00:00:00",
          "2022-10-26T00:00:00",
          "2022-10-27T00:00:00",
          "2022-10-28T00:00:00",
          "2022-10-31T00:00:00",
          "2022-11-01T00:00:00",
          "2022-11-02T00:00:00",
          "2022-11-03T00:00:00",
          "2022-11-04T00:00:00"
         ],
         "xaxis": "x3",
         "y": [
          0,
          -0.016675696927305195,
          -0.025376000415972877,
          -0.03842659393780479,
          -0.010875448505249796,
          -0.045133187355643756,
          -0.06398402929953106,
          -0.016131945245367207,
          -0.0355265388711925,
          0.005619090053963216,
          0.009425490116358848,
          -0.10911721665517482,
          -0.09679167147220347,
          -0.1346745137280705,
          -0.1366683620877298,
          -0.1317744586614582,
          -0.16675724585071272,
          -0.2004712330191687,
          -0.18488303945573947,
          -0.21025917816054274,
          -0.22059087498385477,
          -0.23273512350990333,
          -0.1865142945015532,
          -0.23418522018762467,
          -0.2662678140214365,
          -0.21207172986327927,
          -0.15769434904819946,
          -0.1615007491105953,
          -0.16168204576751832,
          -0.2113466815244187,
          -0.22620982674898715,
          -0.2385353719319585,
          -0.23164762014602758,
          -0.20445892973848756,
          -0.2497734137510541,
          -0.18796439117927455,
          -0.1734638392685517,
          -0.19412723291517553,
          -0.18796439117927455,
          -0.1669385425076355,
          -0.14174370045975504,
          -0.10621702329973193,
          -0.2793184075432684,
          -0.32843929161823104,
          -0.25466731717732594,
          -0.28693120766806035,
          -0.3601594304270277,
          -0.42359970804462077,
          -0.48776503400107485,
          0.9743312943751556
         ],
         "yaxis": "y3"
        },
        {
         "hovertemplate": "variable=Ticker Return<br>Symbol=NVDA<br>Date Snapshot=%{x}<br>value=%{y}<extra></extra>",
         "legendgroup": "Ticker Return",
         "line": {
          "color": "#636efa",
          "dash": "solid"
         },
         "marker": {
          "symbol": "circle"
         },
         "mode": "lines",
         "name": "Ticker Return",
         "orientation": "v",
         "showlegend": false,
         "type": "scatter",
         "x": [
          "2022-08-26T00:00:00",
          "2022-08-29T00:00:00",
          "2022-08-30T00:00:00",
          "2022-08-31T00:00:00",
          "2022-09-01T00:00:00",
          "2022-09-02T00:00:00",
          "2022-09-06T00:00:00",
          "2022-09-07T00:00:00",
          "2022-09-08T00:00:00",
          "2022-09-09T00:00:00",
          "2022-09-12T00:00:00",
          "2022-09-13T00:00:00",
          "2022-09-14T00:00:00",
          "2022-09-15T00:00:00",
          "2022-09-16T00:00:00",
          "2022-09-19T00:00:00",
          "2022-09-20T00:00:00",
          "2022-09-21T00:00:00",
          "2022-09-22T00:00:00",
          "2022-09-23T00:00:00",
          "2022-09-26T00:00:00",
          "2022-09-27T00:00:00",
          "2022-09-28T00:00:00",
          "2022-09-29T00:00:00",
          "2022-09-30T00:00:00",
          "2022-10-03T00:00:00",
          "2022-10-04T00:00:00",
          "2022-10-05T00:00:00",
          "2022-10-06T00:00:00",
          "2022-10-07T00:00:00",
          "2022-10-10T00:00:00",
          "2022-10-11T00:00:00",
          "2022-10-12T00:00:00",
          "2022-10-13T00:00:00",
          "2022-10-14T00:00:00",
          "2022-10-17T00:00:00",
          "2022-10-18T00:00:00",
          "2022-10-19T00:00:00",
          "2022-10-20T00:00:00",
          "2022-10-21T00:00:00",
          "2022-10-24T00:00:00",
          "2022-10-25T00:00:00",
          "2022-10-26T00:00:00",
          "2022-10-27T00:00:00",
          "2022-10-28T00:00:00",
          "2022-10-31T00:00:00",
          "2022-11-01T00:00:00",
          "2022-11-02T00:00:00",
          "2022-11-03T00:00:00",
          "2022-11-04T00:00:00"
         ],
         "xaxis": "x4",
         "y": [
          0,
          -0.05645770509697967,
          -0.09741713567577936,
          -0.14341947385520148,
          -0.30078501976731775,
          -0.3569499565701939,
          -0.3921985122548931,
          -0.3439739275990725,
          -0.29052039542417785,
          -0.21363234819813348,
          -0.19077882731576956,
          -0.45688509089455087,
          -0.45746608506333686,
          -0.49600703954480363,
          -0.4439090619234296,
          -0.40827307828589277,
          -0.4481698828418206,
          -0.4317075933370429,
          -0.5672784157779963,
          -0.5759936238307266,
          -0.6317714282017056,
          -0.5959420261086905,
          -0.5333857101677579,
          -0.6333208444921151,
          -0.6490082780912177,
          -0.5767683319759314,
          -0.44991286534817854,
          -0.4417786514642341,
          -0.45707865711049933,
          -0.6612095989171344,
          -0.7398407764100071,
          -0.7561092041778956,
          -0.772765059898622,
          -0.6836756918466609,
          -0.8256377456652008,
          -0.6976201429394056,
          -0.6823199895326701,
          -0.6660514140043112,
          -0.6383562257952405,
          -0.5856772540050805,
          -0.5599189100392566,
          -0.4317075933370429,
          -0.5023979754014496,
          -0.4481698828418206,
          -0.3207332742848116,
          -0.38600084709325533,
          -0.37709207282457635,
          -0.4398418072209873,
          -0.40071985857073456,
          -0.25837067232029765
         ],
         "yaxis": "y4"
        },
        {
         "hovertemplate": "variable=Benchmark Return<br>Symbol=AAPL<br>Date Snapshot=%{x}<br>value=%{y}<extra></extra>",
         "legendgroup": "Benchmark Return",
         "line": {
          "color": "#EF553B",
          "dash": "solid"
         },
         "marker": {
          "symbol": "circle"
         },
         "mode": "lines",
         "name": "Benchmark Return",
         "orientation": "v",
         "showlegend": true,
         "type": "scatter",
         "x": [
          "2022-08-26T00:00:00",
          "2022-08-29T00:00:00",
          "2022-08-30T00:00:00",
          "2022-08-31T00:00:00",
          "2022-09-01T00:00:00",
          "2022-09-02T00:00:00",
          "2022-09-06T00:00:00",
          "2022-09-07T00:00:00",
          "2022-09-08T00:00:00",
          "2022-09-09T00:00:00",
          "2022-09-12T00:00:00",
          "2022-09-13T00:00:00",
          "2022-09-14T00:00:00",
          "2022-09-15T00:00:00",
          "2022-09-16T00:00:00",
          "2022-09-19T00:00:00",
          "2022-09-20T00:00:00",
          "2022-09-21T00:00:00",
          "2022-09-22T00:00:00",
          "2022-09-23T00:00:00",
          "2022-09-26T00:00:00",
          "2022-09-27T00:00:00",
          "2022-09-28T00:00:00",
          "2022-09-29T00:00:00",
          "2022-09-30T00:00:00",
          "2022-10-03T00:00:00",
          "2022-10-04T00:00:00",
          "2022-10-05T00:00:00",
          "2022-10-06T00:00:00",
          "2022-10-07T00:00:00",
          "2022-10-10T00:00:00",
          "2022-10-11T00:00:00",
          "2022-10-12T00:00:00",
          "2022-10-13T00:00:00",
          "2022-10-14T00:00:00",
          "2022-10-17T00:00:00",
          "2022-10-18T00:00:00",
          "2022-10-19T00:00:00",
          "2022-10-20T00:00:00",
          "2022-10-21T00:00:00",
          "2022-10-24T00:00:00",
          "2022-10-25T00:00:00",
          "2022-10-26T00:00:00",
          "2022-10-27T00:00:00",
          "2022-10-28T00:00:00",
          "2022-10-31T00:00:00",
          "2022-11-01T00:00:00",
          "2022-11-02T00:00:00",
          "2022-11-03T00:00:00",
          "2022-11-04T00:00:00"
         ],
         "xaxis": "x",
         "y": [
          0,
          -0.013224409424511308,
          -0.03503494187798428,
          -0.0499864545352009,
          -0.043867578813296726,
          -0.06449388074780593,
          -0.0717968363998489,
          -0.03715673842073586,
          -0.024327022306270818,
          0.00636554021707969,
          0.02792925758655196,
          -0.060250137073477816,
          -0.05284839515230488,
          -0.07495498523551869,
          -0.09745626862877876,
          -0.08270217792099777,
          -0.10470998173508139,
          -0.13777100529635966,
          -0.15341341948218834,
          -0.1843526465007148,
          -0.20231427917873068,
          -0.20690332302853998,
          -0.17162171665537995,
          -0.20981465678020905,
          -0.23749724987158527,
          -0.1909650018017952,
          -0.13490906467925567,
          -0.139251444033889,
          -0.158446549776609,
          -0.20981465678020905,
          -0.22348330323815668,
          -0.23473394493478672,
          -0.24055661243812487,
          -0.19412300004864025,
          -0.23527666705970351,
          -0.18992864950887722,
          -0.16866098976914579,
          -0.18163873469848135,
          -0.1968863049854388,
          -0.1530679687178822,
          -0.13046804964431669,
          -0.1006142668756238,
          -0.11492442172761819,
          -0.12499068231645971,
          -0.08038295942881057,
          -0.09424887724736886,
          -0.10258818519232982,
          -0.1502060281007782,
          -0.16925310502862767,
          -0.21435438278986574
         ],
         "yaxis": "y"
        },
        {
         "hovertemplate": "variable=Benchmark Return<br>Symbol=AMZN<br>Date Snapshot=%{x}<br>value=%{y}<extra></extra>",
         "legendgroup": "Benchmark Return",
         "line": {
          "color": "#EF553B",
          "dash": "solid"
         },
         "marker": {
          "symbol": "circle"
         },
         "mode": "lines",
         "name": "Benchmark Return",
         "orientation": "v",
         "showlegend": false,
         "type": "scatter",
         "x": [
          "2022-08-26T00:00:00",
          "2022-08-29T00:00:00",
          "2022-08-30T00:00:00",
          "2022-08-31T00:00:00",
          "2022-09-01T00:00:00",
          "2022-09-02T00:00:00",
          "2022-09-06T00:00:00",
          "2022-09-07T00:00:00",
          "2022-09-08T00:00:00",
          "2022-09-09T00:00:00",
          "2022-09-12T00:00:00",
          "2022-09-13T00:00:00",
          "2022-09-14T00:00:00",
          "2022-09-15T00:00:00",
          "2022-09-16T00:00:00",
          "2022-09-19T00:00:00",
          "2022-09-20T00:00:00",
          "2022-09-21T00:00:00",
          "2022-09-22T00:00:00",
          "2022-09-23T00:00:00",
          "2022-09-26T00:00:00",
          "2022-09-27T00:00:00",
          "2022-09-28T00:00:00",
          "2022-09-29T00:00:00",
          "2022-09-30T00:00:00",
          "2022-10-03T00:00:00",
          "2022-10-04T00:00:00",
          "2022-10-05T00:00:00",
          "2022-10-06T00:00:00",
          "2022-10-07T00:00:00",
          "2022-10-10T00:00:00",
          "2022-10-11T00:00:00",
          "2022-10-12T00:00:00",
          "2022-10-13T00:00:00",
          "2022-10-14T00:00:00",
          "2022-10-17T00:00:00",
          "2022-10-18T00:00:00",
          "2022-10-19T00:00:00",
          "2022-10-20T00:00:00",
          "2022-10-21T00:00:00",
          "2022-10-24T00:00:00",
          "2022-10-25T00:00:00",
          "2022-10-26T00:00:00",
          "2022-10-27T00:00:00",
          "2022-10-28T00:00:00",
          "2022-10-31T00:00:00",
          "2022-11-01T00:00:00",
          "2022-11-02T00:00:00",
          "2022-11-03T00:00:00",
          "2022-11-04T00:00:00"
         ],
         "xaxis": "x2",
         "y": [
          0,
          -0.013224409424511308,
          -0.03503494187798428,
          -0.0499864545352009,
          -0.043867578813296726,
          -0.06449388074780593,
          -0.0717968363998489,
          -0.03715673842073586,
          -0.024327022306270818,
          0.00636554021707969,
          0.02792925758655196,
          -0.060250137073477816,
          -0.05284839515230488,
          -0.07495498523551869,
          -0.09745626862877876,
          -0.08270217792099777,
          -0.10470998173508139,
          -0.13777100529635966,
          -0.15341341948218834,
          -0.1843526465007148,
          -0.20231427917873068,
          -0.20690332302853998,
          -0.17162171665537995,
          -0.20981465678020905,
          -0.23749724987158527,
          -0.1909650018017952,
          -0.13490906467925567,
          -0.139251444033889,
          -0.158446549776609,
          -0.20981465678020905,
          -0.22348330323815668,
          -0.23473394493478672,
          -0.24055661243812487,
          -0.19412300004864025,
          -0.23527666705970351,
          -0.18992864950887722,
          -0.16866098976914579,
          -0.18163873469848135,
          -0.1968863049854388,
          -0.1530679687178822,
          -0.13046804964431669,
          -0.1006142668756238,
          -0.11492442172761819,
          -0.12499068231645971,
          -0.08038295942881057,
          -0.14137331587105328,
          -0.15388227778849473,
          -0.22530904215116732,
          -0.2538796575429415,
          -0.285805843719821
         ],
         "yaxis": "y2"
        },
        {
         "hovertemplate": "variable=Benchmark Return<br>Symbol=GOOGL<br>Date Snapshot=%{x}<br>value=%{y}<extra></extra>",
         "legendgroup": "Benchmark Return",
         "line": {
          "color": "#EF553B",
          "dash": "solid"
         },
         "marker": {
          "symbol": "circle"
         },
         "mode": "lines",
         "name": "Benchmark Return",
         "orientation": "v",
         "showlegend": false,
         "type": "scatter",
         "x": [
          "2022-08-26T00:00:00",
          "2022-08-29T00:00:00",
          "2022-08-30T00:00:00",
          "2022-08-31T00:00:00",
          "2022-09-01T00:00:00",
          "2022-09-02T00:00:00",
          "2022-09-06T00:00:00",
          "2022-09-07T00:00:00",
          "2022-09-08T00:00:00",
          "2022-09-09T00:00:00",
          "2022-09-12T00:00:00",
          "2022-09-13T00:00:00",
          "2022-09-14T00:00:00",
          "2022-09-15T00:00:00",
          "2022-09-16T00:00:00",
          "2022-09-19T00:00:00",
          "2022-09-20T00:00:00",
          "2022-09-21T00:00:00",
          "2022-09-22T00:00:00",
          "2022-09-23T00:00:00",
          "2022-09-26T00:00:00",
          "2022-09-27T00:00:00",
          "2022-09-28T00:00:00",
          "2022-09-29T00:00:00",
          "2022-09-30T00:00:00",
          "2022-10-03T00:00:00",
          "2022-10-04T00:00:00",
          "2022-10-05T00:00:00",
          "2022-10-06T00:00:00",
          "2022-10-07T00:00:00",
          "2022-10-10T00:00:00",
          "2022-10-11T00:00:00",
          "2022-10-12T00:00:00",
          "2022-10-13T00:00:00",
          "2022-10-14T00:00:00",
          "2022-10-17T00:00:00",
          "2022-10-18T00:00:00",
          "2022-10-19T00:00:00",
          "2022-10-20T00:00:00",
          "2022-10-21T00:00:00",
          "2022-10-24T00:00:00",
          "2022-10-25T00:00:00",
          "2022-10-26T00:00:00",
          "2022-10-27T00:00:00",
          "2022-10-28T00:00:00",
          "2022-10-31T00:00:00",
          "2022-11-01T00:00:00",
          "2022-11-02T00:00:00",
          "2022-11-03T00:00:00",
          "2022-11-04T00:00:00"
         ],
         "xaxis": "x3",
         "y": [
          0,
          -0.013224409424511308,
          -0.03503494187798428,
          -0.0499864545352009,
          -0.043867578813296726,
          -0.06449388074780593,
          -0.0717968363998489,
          -0.03715673842073586,
          -0.024327022306270818,
          0.00636554021707969,
          0.02792925758655196,
          -0.060250137073477816,
          -0.05284839515230488,
          -0.07495498523551869,
          -0.09745626862877876,
          -0.08270217792099777,
          -0.10470998173508139,
          -0.13777100529635966,
          -0.15341341948218834,
          -0.1843526465007148,
          -0.20231427917873068,
          -0.20690332302853998,
          -0.17162171665537995,
          -0.20981465678020905,
          -0.23749724987158527,
          -0.1909650018017952,
          -0.13490906467925567,
          -0.139251444033889,
          -0.158446549776609,
          -0.20981465678020905,
          -0.22348330323815668,
          -0.23473394493478672,
          -0.24055661243812487,
          -0.19412300004864025,
          -0.23527666705970351,
          -0.18992864950887722,
          -0.16866098976914579,
          -0.18163873469848135,
          -0.1968863049854388,
          -0.1530679687178822,
          -0.13046804964431669,
          -0.1006142668756238,
          -0.11492442172761819,
          -0.12499068231645971,
          -0.08038295942881057,
          -0.09424887724736886,
          -0.10258818519232982,
          -0.1502060281007782,
          -0.16925310502862767,
          -0.21435438278986574
         ],
         "yaxis": "y3"
        },
        {
         "hovertemplate": "variable=Benchmark Return<br>Symbol=NVDA<br>Date Snapshot=%{x}<br>value=%{y}<extra></extra>",
         "legendgroup": "Benchmark Return",
         "line": {
          "color": "#EF553B",
          "dash": "solid"
         },
         "marker": {
          "symbol": "circle"
         },
         "mode": "lines",
         "name": "Benchmark Return",
         "orientation": "v",
         "showlegend": false,
         "type": "scatter",
         "x": [
          "2022-08-26T00:00:00",
          "2022-08-29T00:00:00",
          "2022-08-30T00:00:00",
          "2022-08-31T00:00:00",
          "2022-09-01T00:00:00",
          "2022-09-02T00:00:00",
          "2022-09-06T00:00:00",
          "2022-09-07T00:00:00",
          "2022-09-08T00:00:00",
          "2022-09-09T00:00:00",
          "2022-09-12T00:00:00",
          "2022-09-13T00:00:00",
          "2022-09-14T00:00:00",
          "2022-09-15T00:00:00",
          "2022-09-16T00:00:00",
          "2022-09-19T00:00:00",
          "2022-09-20T00:00:00",
          "2022-09-21T00:00:00",
          "2022-09-22T00:00:00",
          "2022-09-23T00:00:00",
          "2022-09-26T00:00:00",
          "2022-09-27T00:00:00",
          "2022-09-28T00:00:00",
          "2022-09-29T00:00:00",
          "2022-09-30T00:00:00",
          "2022-10-03T00:00:00",
          "2022-10-04T00:00:00",
          "2022-10-05T00:00:00",
          "2022-10-06T00:00:00",
          "2022-10-07T00:00:00",
          "2022-10-10T00:00:00",
          "2022-10-11T00:00:00",
          "2022-10-12T00:00:00",
          "2022-10-13T00:00:00",
          "2022-10-14T00:00:00",
          "2022-10-17T00:00:00",
          "2022-10-18T00:00:00",
          "2022-10-19T00:00:00",
          "2022-10-20T00:00:00",
          "2022-10-21T00:00:00",
          "2022-10-24T00:00:00",
          "2022-10-25T00:00:00",
          "2022-10-26T00:00:00",
          "2022-10-27T00:00:00",
          "2022-10-28T00:00:00",
          "2022-10-31T00:00:00",
          "2022-11-01T00:00:00",
          "2022-11-02T00:00:00",
          "2022-11-03T00:00:00",
          "2022-11-04T00:00:00"
         ],
         "xaxis": "x4",
         "y": [
          0,
          -0.013224409424511308,
          -0.03503494187798428,
          -0.0499864545352009,
          -0.06580136821994509,
          -0.0967408211217089,
          -0.10769525459977336,
          -0.055735107631103786,
          -0.03649053345940623,
          0.009548310325619536,
          0.04189388637982794,
          -0.09037520561021672,
          -0.07927259272845733,
          -0.11243247785327803,
          -0.14618440294316815,
          -0.12405326688149665,
          -0.1570649726026221,
          -0.2066565079445395,
          -0.2301201292232825,
          -0.2765289697510722,
          -0.303471418768096,
          -0.31035498454280996,
          -0.25743257498306993,
          -0.3147219851703136,
          -0.3562458748073779,
          -0.2864475027026928,
          -0.2023635970188835,
          -0.2088771660508335,
          -0.2376698246649135,
          -0.3147219851703136,
          -0.335224954857235,
          -0.3521009174021801,
          -0.3608349186571873,
          -0.2911845000729604,
          -0.35291500058955527,
          -0.28489297426331583,
          -0.2529914846537187,
          -0.27245810204772203,
          -0.2953294574781582,
          -0.2296019530768233,
          -0.19570207446647503,
          -0.1509214003134357,
          -0.17238663259142728,
          -0.18748602347468957,
          -0.12057443914321586,
          -0.14137331587105328,
          -0.15388227778849473,
          -0.22530904215116732,
          -0.2538796575429415,
          -0.21435438278986574
         ],
         "yaxis": "y4"
        }
       ],
       "layout": {
        "annotations": [
         {
          "font": {},
          "showarrow": false,
          "text": "Symbol=AAPL",
          "x": 0.1175,
          "xanchor": "center",
          "xref": "paper",
          "y": 1,
          "yanchor": "bottom",
          "yref": "paper"
         },
         {
          "font": {},
          "showarrow": false,
          "text": "Symbol=AMZN",
          "x": 0.3725,
          "xanchor": "center",
          "xref": "paper",
          "y": 1,
          "yanchor": "bottom",
          "yref": "paper"
         },
         {
          "font": {},
          "showarrow": false,
          "text": "Symbol=GOOGL",
          "x": 0.6275,
          "xanchor": "center",
          "xref": "paper",
          "y": 1,
          "yanchor": "bottom",
          "yref": "paper"
         },
         {
          "font": {},
          "showarrow": false,
          "text": "Symbol=NVDA",
          "x": 0.8824999999999998,
          "xanchor": "center",
          "xref": "paper",
          "y": 1,
          "yanchor": "bottom",
          "yref": "paper"
         }
        ],
        "legend": {
         "title": {
          "text": "variable"
         },
         "tracegroupgap": 0
        },
        "margin": {
         "t": 60
        },
        "template": {
         "data": {
          "bar": [
           {
            "error_x": {
             "color": "#2a3f5f"
            },
            "error_y": {
             "color": "#2a3f5f"
            },
            "marker": {
             "line": {
              "color": "#E5ECF6",
              "width": 0.5
             },
             "pattern": {
              "fillmode": "overlay",
              "size": 10,
              "solidity": 0.2
             }
            },
            "type": "bar"
           }
          ],
          "barpolar": [
           {
            "marker": {
             "line": {
              "color": "#E5ECF6",
              "width": 0.5
             },
             "pattern": {
              "fillmode": "overlay",
              "size": 10,
              "solidity": 0.2
             }
            },
            "type": "barpolar"
           }
          ],
          "carpet": [
           {
            "aaxis": {
             "endlinecolor": "#2a3f5f",
             "gridcolor": "white",
             "linecolor": "white",
             "minorgridcolor": "white",
             "startlinecolor": "#2a3f5f"
            },
            "baxis": {
             "endlinecolor": "#2a3f5f",
             "gridcolor": "white",
             "linecolor": "white",
             "minorgridcolor": "white",
             "startlinecolor": "#2a3f5f"
            },
            "type": "carpet"
           }
          ],
          "choropleth": [
           {
            "colorbar": {
             "outlinewidth": 0,
             "ticks": ""
            },
            "type": "choropleth"
           }
          ],
          "contour": [
           {
            "colorbar": {
             "outlinewidth": 0,
             "ticks": ""
            },
            "colorscale": [
             [
              0,
              "#0d0887"
             ],
             [
              0.1111111111111111,
              "#46039f"
             ],
             [
              0.2222222222222222,
              "#7201a8"
             ],
             [
              0.3333333333333333,
              "#9c179e"
             ],
             [
              0.4444444444444444,
              "#bd3786"
             ],
             [
              0.5555555555555556,
              "#d8576b"
             ],
             [
              0.6666666666666666,
              "#ed7953"
             ],
             [
              0.7777777777777778,
              "#fb9f3a"
             ],
             [
              0.8888888888888888,
              "#fdca26"
             ],
             [
              1,
              "#f0f921"
             ]
            ],
            "type": "contour"
           }
          ],
          "contourcarpet": [
           {
            "colorbar": {
             "outlinewidth": 0,
             "ticks": ""
            },
            "type": "contourcarpet"
           }
          ],
          "heatmap": [
           {
            "colorbar": {
             "outlinewidth": 0,
             "ticks": ""
            },
            "colorscale": [
             [
              0,
              "#0d0887"
             ],
             [
              0.1111111111111111,
              "#46039f"
             ],
             [
              0.2222222222222222,
              "#7201a8"
             ],
             [
              0.3333333333333333,
              "#9c179e"
             ],
             [
              0.4444444444444444,
              "#bd3786"
             ],
             [
              0.5555555555555556,
              "#d8576b"
             ],
             [
              0.6666666666666666,
              "#ed7953"
             ],
             [
              0.7777777777777778,
              "#fb9f3a"
             ],
             [
              0.8888888888888888,
              "#fdca26"
             ],
             [
              1,
              "#f0f921"
             ]
            ],
            "type": "heatmap"
           }
          ],
          "heatmapgl": [
           {
            "colorbar": {
             "outlinewidth": 0,
             "ticks": ""
            },
            "colorscale": [
             [
              0,
              "#0d0887"
             ],
             [
              0.1111111111111111,
              "#46039f"
             ],
             [
              0.2222222222222222,
              "#7201a8"
             ],
             [
              0.3333333333333333,
              "#9c179e"
             ],
             [
              0.4444444444444444,
              "#bd3786"
             ],
             [
              0.5555555555555556,
              "#d8576b"
             ],
             [
              0.6666666666666666,
              "#ed7953"
             ],
             [
              0.7777777777777778,
              "#fb9f3a"
             ],
             [
              0.8888888888888888,
              "#fdca26"
             ],
             [
              1,
              "#f0f921"
             ]
            ],
            "type": "heatmapgl"
           }
          ],
          "histogram": [
           {
            "marker": {
             "pattern": {
              "fillmode": "overlay",
              "size": 10,
              "solidity": 0.2
             }
            },
            "type": "histogram"
           }
          ],
          "histogram2d": [
           {
            "colorbar": {
             "outlinewidth": 0,
             "ticks": ""
            },
            "colorscale": [
             [
              0,
              "#0d0887"
             ],
             [
              0.1111111111111111,
              "#46039f"
             ],
             [
              0.2222222222222222,
              "#7201a8"
             ],
             [
              0.3333333333333333,
              "#9c179e"
             ],
             [
              0.4444444444444444,
              "#bd3786"
             ],
             [
              0.5555555555555556,
              "#d8576b"
             ],
             [
              0.6666666666666666,
              "#ed7953"
             ],
             [
              0.7777777777777778,
              "#fb9f3a"
             ],
             [
              0.8888888888888888,
              "#fdca26"
             ],
             [
              1,
              "#f0f921"
             ]
            ],
            "type": "histogram2d"
           }
          ],
          "histogram2dcontour": [
           {
            "colorbar": {
             "outlinewidth": 0,
             "ticks": ""
            },
            "colorscale": [
             [
              0,
              "#0d0887"
             ],
             [
              0.1111111111111111,
              "#46039f"
             ],
             [
              0.2222222222222222,
              "#7201a8"
             ],
             [
              0.3333333333333333,
              "#9c179e"
             ],
             [
              0.4444444444444444,
              "#bd3786"
             ],
             [
              0.5555555555555556,
              "#d8576b"
             ],
             [
              0.6666666666666666,
              "#ed7953"
             ],
             [
              0.7777777777777778,
              "#fb9f3a"
             ],
             [
              0.8888888888888888,
              "#fdca26"
             ],
             [
              1,
              "#f0f921"
             ]
            ],
            "type": "histogram2dcontour"
           }
          ],
          "mesh3d": [
           {
            "colorbar": {
             "outlinewidth": 0,
             "ticks": ""
            },
            "type": "mesh3d"
           }
          ],
          "parcoords": [
           {
            "line": {
             "colorbar": {
              "outlinewidth": 0,
              "ticks": ""
             }
            },
            "type": "parcoords"
           }
          ],
          "pie": [
           {
            "automargin": true,
            "type": "pie"
           }
          ],
          "scatter": [
           {
            "fillpattern": {
             "fillmode": "overlay",
             "size": 10,
             "solidity": 0.2
            },
            "type": "scatter"
           }
          ],
          "scatter3d": [
           {
            "line": {
             "colorbar": {
              "outlinewidth": 0,
              "ticks": ""
             }
            },
            "marker": {
             "colorbar": {
              "outlinewidth": 0,
              "ticks": ""
             }
            },
            "type": "scatter3d"
           }
          ],
          "scattercarpet": [
           {
            "marker": {
             "colorbar": {
              "outlinewidth": 0,
              "ticks": ""
             }
            },
            "type": "scattercarpet"
           }
          ],
          "scattergeo": [
           {
            "marker": {
             "colorbar": {
              "outlinewidth": 0,
              "ticks": ""
             }
            },
            "type": "scattergeo"
           }
          ],
          "scattergl": [
           {
            "marker": {
             "colorbar": {
              "outlinewidth": 0,
              "ticks": ""
             }
            },
            "type": "scattergl"
           }
          ],
          "scattermapbox": [
           {
            "marker": {
             "colorbar": {
              "outlinewidth": 0,
              "ticks": ""
             }
            },
            "type": "scattermapbox"
           }
          ],
          "scatterpolar": [
           {
            "marker": {
             "colorbar": {
              "outlinewidth": 0,
              "ticks": ""
             }
            },
            "type": "scatterpolar"
           }
          ],
          "scatterpolargl": [
           {
            "marker": {
             "colorbar": {
              "outlinewidth": 0,
              "ticks": ""
             }
            },
            "type": "scatterpolargl"
           }
          ],
          "scatterternary": [
           {
            "marker": {
             "colorbar": {
              "outlinewidth": 0,
              "ticks": ""
             }
            },
            "type": "scatterternary"
           }
          ],
          "surface": [
           {
            "colorbar": {
             "outlinewidth": 0,
             "ticks": ""
            },
            "colorscale": [
             [
              0,
              "#0d0887"
             ],
             [
              0.1111111111111111,
              "#46039f"
             ],
             [
              0.2222222222222222,
              "#7201a8"
             ],
             [
              0.3333333333333333,
              "#9c179e"
             ],
             [
              0.4444444444444444,
              "#bd3786"
             ],
             [
              0.5555555555555556,
              "#d8576b"
             ],
             [
              0.6666666666666666,
              "#ed7953"
             ],
             [
              0.7777777777777778,
              "#fb9f3a"
             ],
             [
              0.8888888888888888,
              "#fdca26"
             ],
             [
              1,
              "#f0f921"
             ]
            ],
            "type": "surface"
           }
          ],
          "table": [
           {
            "cells": {
             "fill": {
              "color": "#EBF0F8"
             },
             "line": {
              "color": "white"
             }
            },
            "header": {
             "fill": {
              "color": "#C8D4E3"
             },
             "line": {
              "color": "white"
             }
            },
            "type": "table"
           }
          ]
         },
         "layout": {
          "annotationdefaults": {
           "arrowcolor": "#2a3f5f",
           "arrowhead": 0,
           "arrowwidth": 1
          },
          "autotypenumbers": "strict",
          "coloraxis": {
           "colorbar": {
            "outlinewidth": 0,
            "ticks": ""
           }
          },
          "colorscale": {
           "diverging": [
            [
             0,
             "#8e0152"
            ],
            [
             0.1,
             "#c51b7d"
            ],
            [
             0.2,
             "#de77ae"
            ],
            [
             0.3,
             "#f1b6da"
            ],
            [
             0.4,
             "#fde0ef"
            ],
            [
             0.5,
             "#f7f7f7"
            ],
            [
             0.6,
             "#e6f5d0"
            ],
            [
             0.7,
             "#b8e186"
            ],
            [
             0.8,
             "#7fbc41"
            ],
            [
             0.9,
             "#4d9221"
            ],
            [
             1,
             "#276419"
            ]
           ],
           "sequential": [
            [
             0,
             "#0d0887"
            ],
            [
             0.1111111111111111,
             "#46039f"
            ],
            [
             0.2222222222222222,
             "#7201a8"
            ],
            [
             0.3333333333333333,
             "#9c179e"
            ],
            [
             0.4444444444444444,
             "#bd3786"
            ],
            [
             0.5555555555555556,
             "#d8576b"
            ],
            [
             0.6666666666666666,
             "#ed7953"
            ],
            [
             0.7777777777777778,
             "#fb9f3a"
            ],
            [
             0.8888888888888888,
             "#fdca26"
            ],
            [
             1,
             "#f0f921"
            ]
           ],
           "sequentialminus": [
            [
             0,
             "#0d0887"
            ],
            [
             0.1111111111111111,
             "#46039f"
            ],
            [
             0.2222222222222222,
             "#7201a8"
            ],
            [
             0.3333333333333333,
             "#9c179e"
            ],
            [
             0.4444444444444444,
             "#bd3786"
            ],
            [
             0.5555555555555556,
             "#d8576b"
            ],
            [
             0.6666666666666666,
             "#ed7953"
            ],
            [
             0.7777777777777778,
             "#fb9f3a"
            ],
            [
             0.8888888888888888,
             "#fdca26"
            ],
            [
             1,
             "#f0f921"
            ]
           ]
          },
          "colorway": [
           "#636efa",
           "#EF553B",
           "#00cc96",
           "#ab63fa",
           "#FFA15A",
           "#19d3f3",
           "#FF6692",
           "#B6E880",
           "#FF97FF",
           "#FECB52"
          ],
          "font": {
           "color": "#2a3f5f"
          },
          "geo": {
           "bgcolor": "white",
           "lakecolor": "white",
           "landcolor": "#E5ECF6",
           "showlakes": true,
           "showland": true,
           "subunitcolor": "white"
          },
          "hoverlabel": {
           "align": "left"
          },
          "hovermode": "closest",
          "mapbox": {
           "style": "light"
          },
          "paper_bgcolor": "white",
          "plot_bgcolor": "#E5ECF6",
          "polar": {
           "angularaxis": {
            "gridcolor": "white",
            "linecolor": "white",
            "ticks": ""
           },
           "bgcolor": "#E5ECF6",
           "radialaxis": {
            "gridcolor": "white",
            "linecolor": "white",
            "ticks": ""
           }
          },
          "scene": {
           "xaxis": {
            "backgroundcolor": "#E5ECF6",
            "gridcolor": "white",
            "gridwidth": 2,
            "linecolor": "white",
            "showbackground": true,
            "ticks": "",
            "zerolinecolor": "white"
           },
           "yaxis": {
            "backgroundcolor": "#E5ECF6",
            "gridcolor": "white",
            "gridwidth": 2,
            "linecolor": "white",
            "showbackground": true,
            "ticks": "",
            "zerolinecolor": "white"
           },
           "zaxis": {
            "backgroundcolor": "#E5ECF6",
            "gridcolor": "white",
            "gridwidth": 2,
            "linecolor": "white",
            "showbackground": true,
            "ticks": "",
            "zerolinecolor": "white"
           }
          },
          "shapedefaults": {
           "line": {
            "color": "#2a3f5f"
           }
          },
          "ternary": {
           "aaxis": {
            "gridcolor": "white",
            "linecolor": "white",
            "ticks": ""
           },
           "baxis": {
            "gridcolor": "white",
            "linecolor": "white",
            "ticks": ""
           },
           "bgcolor": "#E5ECF6",
           "caxis": {
            "gridcolor": "white",
            "linecolor": "white",
            "ticks": ""
           }
          },
          "title": {
           "x": 0.05
          },
          "xaxis": {
           "automargin": true,
           "gridcolor": "white",
           "linecolor": "white",
           "ticks": "",
           "title": {
            "standoff": 15
           },
           "zerolinecolor": "white",
           "zerolinewidth": 2
          },
          "yaxis": {
           "automargin": true,
           "gridcolor": "white",
           "linecolor": "white",
           "ticks": "",
           "title": {
            "standoff": 15
           },
           "zerolinecolor": "white",
           "zerolinewidth": 2
          }
         }
        },
        "xaxis": {
         "anchor": "y",
         "domain": [
          0,
          0.235
         ],
         "title": {
          "text": "Date Snapshot"
         }
        },
        "xaxis2": {
         "anchor": "y2",
         "domain": [
          0.255,
          0.49
         ],
         "matches": "x",
         "title": {
          "text": "Date Snapshot"
         }
        },
        "xaxis3": {
         "anchor": "y3",
         "domain": [
          0.51,
          0.745
         ],
         "matches": "x",
         "title": {
          "text": "Date Snapshot"
         }
        },
        "xaxis4": {
         "anchor": "y4",
         "domain": [
          0.7649999999999999,
          0.9999999999999999
         ],
         "matches": "x",
         "title": {
          "text": "Date Snapshot"
         }
        },
        "yaxis": {
         "anchor": "x",
         "domain": [
          0,
          1
         ],
         "title": {
          "text": "value"
         }
        },
        "yaxis2": {
         "anchor": "x2",
         "domain": [
          0,
          1
         ],
         "matches": "y",
         "showticklabels": false
        },
        "yaxis3": {
         "anchor": "x3",
         "domain": [
          0,
          1
         ],
         "matches": "y",
         "showticklabels": false
        },
        "yaxis4": {
         "anchor": "x4",
         "domain": [
          0,
          1
         ],
         "matches": "y",
         "showticklabels": false
        }
       }
      }
     },
     "metadata": {},
     "output_type": "display_data"
    },
    {
     "data": {
      "application/vnd.plotly.v1+json": {
       "config": {
        "plotlyServerURL": "https://plot.ly"
       },
       "data": [
        {
         "hovertemplate": "variable=Stock Gain / (Loss)<br>Date Snapshot=%{x}<br>value=%{y}<extra></extra>",
         "legendgroup": "Stock Gain / (Loss)",
         "line": {
          "color": "#636efa",
          "dash": "solid"
         },
         "marker": {
          "symbol": "circle"
         },
         "mode": "lines",
         "name": "Stock Gain / (Loss)",
         "orientation": "v",
         "showlegend": true,
         "type": "scatter",
         "x": [
          "2022-08-26T00:00:00",
          "2022-08-29T00:00:00",
          "2022-08-30T00:00:00",
          "2022-08-31T00:00:00",
          "2022-09-01T00:00:00",
          "2022-09-02T00:00:00",
          "2022-09-06T00:00:00",
          "2022-09-07T00:00:00",
          "2022-09-08T00:00:00",
          "2022-09-09T00:00:00",
          "2022-09-12T00:00:00",
          "2022-09-13T00:00:00",
          "2022-09-14T00:00:00",
          "2022-09-15T00:00:00",
          "2022-09-16T00:00:00",
          "2022-09-19T00:00:00",
          "2022-09-20T00:00:00",
          "2022-09-21T00:00:00",
          "2022-09-22T00:00:00",
          "2022-09-23T00:00:00",
          "2022-09-26T00:00:00",
          "2022-09-27T00:00:00",
          "2022-09-28T00:00:00",
          "2022-09-29T00:00:00",
          "2022-09-30T00:00:00",
          "2022-10-03T00:00:00",
          "2022-10-04T00:00:00",
          "2022-10-05T00:00:00",
          "2022-10-06T00:00:00",
          "2022-10-07T00:00:00",
          "2022-10-10T00:00:00",
          "2022-10-11T00:00:00",
          "2022-10-12T00:00:00",
          "2022-10-13T00:00:00",
          "2022-10-14T00:00:00",
          "2022-10-17T00:00:00",
          "2022-10-18T00:00:00",
          "2022-10-19T00:00:00",
          "2022-10-20T00:00:00",
          "2022-10-21T00:00:00",
          "2022-10-24T00:00:00",
          "2022-10-25T00:00:00",
          "2022-10-26T00:00:00",
          "2022-10-27T00:00:00",
          "2022-10-28T00:00:00",
          "2022-10-31T00:00:00",
          "2022-11-01T00:00:00",
          "2022-11-02T00:00:00",
          "2022-11-03T00:00:00",
          "2022-11-04T00:00:00"
         ],
         "xaxis": "x",
         "y": [
          0,
          -1021.500732421875,
          -1877.9800415039062,
          -2850.2793579101562,
          -3728.969924926758,
          -4800.909530639648,
          -5606.010955810547,
          -4146.139907836914,
          -3988.8391876220703,
          -2165.1100311279297,
          -813.0701446533203,
          -6542.590408325195,
          -6034.519561767578,
          -7345.33073425293,
          -7483.680221557617,
          -6551.738327026367,
          -7264.340866088867,
          -8284.329330444336,
          -9579.009201049805,
          -10623.480239868164,
          -10965.93930053711,
          -10757.010078430176,
          -9540.239028930664,
          -12093.300369262695,
          -13246.409698486328,
          -11270.399864196777,
          -8578.989700317383,
          -8528.551162719727,
          -8859.499710083008,
          -12431.879844665527,
          -13318.04035949707,
          -13929.519958496094,
          -13988.980102539062,
          -12507.199684143066,
          -15412.869682312012,
          -12373.339210510254,
          -11611.110260009766,
          -11820.089561462402,
          -11558.158966064453,
          -9925.598892211914,
          -9164.450782775879,
          -7319.0894775390625,
          -10481.137145996094,
          -11616.059982299805,
          -9650.658828735352,
          -10868.90885925293,
          -12929.351013183594,
          -15642.988464355469,
          -17170.8271484375,
          -13349.237884521484
         ],
         "yaxis": "y"
        },
        {
         "hovertemplate": "variable=Benchmark Gain / (Loss)<br>Date Snapshot=%{x}<br>value=%{y}<extra></extra>",
         "legendgroup": "Benchmark Gain / (Loss)",
         "line": {
          "color": "#EF553B",
          "dash": "solid"
         },
         "marker": {
          "symbol": "circle"
         },
         "mode": "lines",
         "name": "Benchmark Gain / (Loss)",
         "orientation": "v",
         "showlegend": true,
         "type": "scatter",
         "x": [
          "2022-08-26T00:00:00",
          "2022-08-29T00:00:00",
          "2022-08-30T00:00:00",
          "2022-08-31T00:00:00",
          "2022-09-01T00:00:00",
          "2022-09-02T00:00:00",
          "2022-09-06T00:00:00",
          "2022-09-07T00:00:00",
          "2022-09-08T00:00:00",
          "2022-09-09T00:00:00",
          "2022-09-12T00:00:00",
          "2022-09-13T00:00:00",
          "2022-09-14T00:00:00",
          "2022-09-15T00:00:00",
          "2022-09-16T00:00:00",
          "2022-09-19T00:00:00",
          "2022-09-20T00:00:00",
          "2022-09-21T00:00:00",
          "2022-09-22T00:00:00",
          "2022-09-23T00:00:00",
          "2022-09-26T00:00:00",
          "2022-09-27T00:00:00",
          "2022-09-28T00:00:00",
          "2022-09-29T00:00:00",
          "2022-09-30T00:00:00",
          "2022-10-03T00:00:00",
          "2022-10-04T00:00:00",
          "2022-10-05T00:00:00",
          "2022-10-06T00:00:00",
          "2022-10-07T00:00:00",
          "2022-10-10T00:00:00",
          "2022-10-11T00:00:00",
          "2022-10-12T00:00:00",
          "2022-10-13T00:00:00",
          "2022-10-14T00:00:00",
          "2022-10-17T00:00:00",
          "2022-10-18T00:00:00",
          "2022-10-19T00:00:00",
          "2022-10-20T00:00:00",
          "2022-10-21T00:00:00",
          "2022-10-24T00:00:00",
          "2022-10-25T00:00:00",
          "2022-10-26T00:00:00",
          "2022-10-27T00:00:00",
          "2022-10-28T00:00:00",
          "2022-10-31T00:00:00",
          "2022-11-01T00:00:00",
          "2022-11-02T00:00:00",
          "2022-11-03T00:00:00",
          "2022-11-04T00:00:00"
         ],
         "xaxis": "x",
         "y": [
          0,
          -473.07256320655506,
          -1253.2937558096673,
          -1788.1494298524485,
          -1752.3750890930978,
          -2576.3325234430113,
          -2868.0631798318336,
          -1484.2976193778286,
          -971.7898510596533,
          254.2837878631617,
          1115.688090738735,
          -2406.8079930138338,
          -2111.131128471945,
          -2994.221529505755,
          -3893.0787164682015,
          -3303.698091460951,
          -4182.8422843416965,
          -5503.528669958738,
          -6128.395090537527,
          -7364.322218720589,
          -8081.8342974782845,
          -8265.152509759566,
          -6855.76065855547,
          -8381.451354612029,
          -9487.28595609052,
          -7628.465511405207,
          -5389.202929182806,
          -5562.667652203844,
          -6329.4531928239785,
          -8381.451354612029,
          -8927.471814425224,
          -9376.900407906447,
          -9609.498097611373,
          -7754.617845517915,
          -9398.580490503473,
          -7587.066419165271,
          -6737.4887096264765,
          -7255.909774613043,
          -7865.003393701992,
          -6114.595393124219,
          -5211.79801356992,
          -4019.2310505809082,
          -4590.877801144191,
          -4992.994005717092,
          -3211.052433282045,
          -4111.035155531292,
          -4474.786842933947,
          -6551.826187534345,
          -7382.639297965151,
          -7116.126760718374
         ],
         "yaxis": "y"
        }
       ],
       "layout": {
        "legend": {
         "title": {
          "text": "variable"
         },
         "tracegroupgap": 0
        },
        "margin": {
         "t": 60
        },
        "template": {
         "data": {
          "bar": [
           {
            "error_x": {
             "color": "#2a3f5f"
            },
            "error_y": {
             "color": "#2a3f5f"
            },
            "marker": {
             "line": {
              "color": "#E5ECF6",
              "width": 0.5
             },
             "pattern": {
              "fillmode": "overlay",
              "size": 10,
              "solidity": 0.2
             }
            },
            "type": "bar"
           }
          ],
          "barpolar": [
           {
            "marker": {
             "line": {
              "color": "#E5ECF6",
              "width": 0.5
             },
             "pattern": {
              "fillmode": "overlay",
              "size": 10,
              "solidity": 0.2
             }
            },
            "type": "barpolar"
           }
          ],
          "carpet": [
           {
            "aaxis": {
             "endlinecolor": "#2a3f5f",
             "gridcolor": "white",
             "linecolor": "white",
             "minorgridcolor": "white",
             "startlinecolor": "#2a3f5f"
            },
            "baxis": {
             "endlinecolor": "#2a3f5f",
             "gridcolor": "white",
             "linecolor": "white",
             "minorgridcolor": "white",
             "startlinecolor": "#2a3f5f"
            },
            "type": "carpet"
           }
          ],
          "choropleth": [
           {
            "colorbar": {
             "outlinewidth": 0,
             "ticks": ""
            },
            "type": "choropleth"
           }
          ],
          "contour": [
           {
            "colorbar": {
             "outlinewidth": 0,
             "ticks": ""
            },
            "colorscale": [
             [
              0,
              "#0d0887"
             ],
             [
              0.1111111111111111,
              "#46039f"
             ],
             [
              0.2222222222222222,
              "#7201a8"
             ],
             [
              0.3333333333333333,
              "#9c179e"
             ],
             [
              0.4444444444444444,
              "#bd3786"
             ],
             [
              0.5555555555555556,
              "#d8576b"
             ],
             [
              0.6666666666666666,
              "#ed7953"
             ],
             [
              0.7777777777777778,
              "#fb9f3a"
             ],
             [
              0.8888888888888888,
              "#fdca26"
             ],
             [
              1,
              "#f0f921"
             ]
            ],
            "type": "contour"
           }
          ],
          "contourcarpet": [
           {
            "colorbar": {
             "outlinewidth": 0,
             "ticks": ""
            },
            "type": "contourcarpet"
           }
          ],
          "heatmap": [
           {
            "colorbar": {
             "outlinewidth": 0,
             "ticks": ""
            },
            "colorscale": [
             [
              0,
              "#0d0887"
             ],
             [
              0.1111111111111111,
              "#46039f"
             ],
             [
              0.2222222222222222,
              "#7201a8"
             ],
             [
              0.3333333333333333,
              "#9c179e"
             ],
             [
              0.4444444444444444,
              "#bd3786"
             ],
             [
              0.5555555555555556,
              "#d8576b"
             ],
             [
              0.6666666666666666,
              "#ed7953"
             ],
             [
              0.7777777777777778,
              "#fb9f3a"
             ],
             [
              0.8888888888888888,
              "#fdca26"
             ],
             [
              1,
              "#f0f921"
             ]
            ],
            "type": "heatmap"
           }
          ],
          "heatmapgl": [
           {
            "colorbar": {
             "outlinewidth": 0,
             "ticks": ""
            },
            "colorscale": [
             [
              0,
              "#0d0887"
             ],
             [
              0.1111111111111111,
              "#46039f"
             ],
             [
              0.2222222222222222,
              "#7201a8"
             ],
             [
              0.3333333333333333,
              "#9c179e"
             ],
             [
              0.4444444444444444,
              "#bd3786"
             ],
             [
              0.5555555555555556,
              "#d8576b"
             ],
             [
              0.6666666666666666,
              "#ed7953"
             ],
             [
              0.7777777777777778,
              "#fb9f3a"
             ],
             [
              0.8888888888888888,
              "#fdca26"
             ],
             [
              1,
              "#f0f921"
             ]
            ],
            "type": "heatmapgl"
           }
          ],
          "histogram": [
           {
            "marker": {
             "pattern": {
              "fillmode": "overlay",
              "size": 10,
              "solidity": 0.2
             }
            },
            "type": "histogram"
           }
          ],
          "histogram2d": [
           {
            "colorbar": {
             "outlinewidth": 0,
             "ticks": ""
            },
            "colorscale": [
             [
              0,
              "#0d0887"
             ],
             [
              0.1111111111111111,
              "#46039f"
             ],
             [
              0.2222222222222222,
              "#7201a8"
             ],
             [
              0.3333333333333333,
              "#9c179e"
             ],
             [
              0.4444444444444444,
              "#bd3786"
             ],
             [
              0.5555555555555556,
              "#d8576b"
             ],
             [
              0.6666666666666666,
              "#ed7953"
             ],
             [
              0.7777777777777778,
              "#fb9f3a"
             ],
             [
              0.8888888888888888,
              "#fdca26"
             ],
             [
              1,
              "#f0f921"
             ]
            ],
            "type": "histogram2d"
           }
          ],
          "histogram2dcontour": [
           {
            "colorbar": {
             "outlinewidth": 0,
             "ticks": ""
            },
            "colorscale": [
             [
              0,
              "#0d0887"
             ],
             [
              0.1111111111111111,
              "#46039f"
             ],
             [
              0.2222222222222222,
              "#7201a8"
             ],
             [
              0.3333333333333333,
              "#9c179e"
             ],
             [
              0.4444444444444444,
              "#bd3786"
             ],
             [
              0.5555555555555556,
              "#d8576b"
             ],
             [
              0.6666666666666666,
              "#ed7953"
             ],
             [
              0.7777777777777778,
              "#fb9f3a"
             ],
             [
              0.8888888888888888,
              "#fdca26"
             ],
             [
              1,
              "#f0f921"
             ]
            ],
            "type": "histogram2dcontour"
           }
          ],
          "mesh3d": [
           {
            "colorbar": {
             "outlinewidth": 0,
             "ticks": ""
            },
            "type": "mesh3d"
           }
          ],
          "parcoords": [
           {
            "line": {
             "colorbar": {
              "outlinewidth": 0,
              "ticks": ""
             }
            },
            "type": "parcoords"
           }
          ],
          "pie": [
           {
            "automargin": true,
            "type": "pie"
           }
          ],
          "scatter": [
           {
            "fillpattern": {
             "fillmode": "overlay",
             "size": 10,
             "solidity": 0.2
            },
            "type": "scatter"
           }
          ],
          "scatter3d": [
           {
            "line": {
             "colorbar": {
              "outlinewidth": 0,
              "ticks": ""
             }
            },
            "marker": {
             "colorbar": {
              "outlinewidth": 0,
              "ticks": ""
             }
            },
            "type": "scatter3d"
           }
          ],
          "scattercarpet": [
           {
            "marker": {
             "colorbar": {
              "outlinewidth": 0,
              "ticks": ""
             }
            },
            "type": "scattercarpet"
           }
          ],
          "scattergeo": [
           {
            "marker": {
             "colorbar": {
              "outlinewidth": 0,
              "ticks": ""
             }
            },
            "type": "scattergeo"
           }
          ],
          "scattergl": [
           {
            "marker": {
             "colorbar": {
              "outlinewidth": 0,
              "ticks": ""
             }
            },
            "type": "scattergl"
           }
          ],
          "scattermapbox": [
           {
            "marker": {
             "colorbar": {
              "outlinewidth": 0,
              "ticks": ""
             }
            },
            "type": "scattermapbox"
           }
          ],
          "scatterpolar": [
           {
            "marker": {
             "colorbar": {
              "outlinewidth": 0,
              "ticks": ""
             }
            },
            "type": "scatterpolar"
           }
          ],
          "scatterpolargl": [
           {
            "marker": {
             "colorbar": {
              "outlinewidth": 0,
              "ticks": ""
             }
            },
            "type": "scatterpolargl"
           }
          ],
          "scatterternary": [
           {
            "marker": {
             "colorbar": {
              "outlinewidth": 0,
              "ticks": ""
             }
            },
            "type": "scatterternary"
           }
          ],
          "surface": [
           {
            "colorbar": {
             "outlinewidth": 0,
             "ticks": ""
            },
            "colorscale": [
             [
              0,
              "#0d0887"
             ],
             [
              0.1111111111111111,
              "#46039f"
             ],
             [
              0.2222222222222222,
              "#7201a8"
             ],
             [
              0.3333333333333333,
              "#9c179e"
             ],
             [
              0.4444444444444444,
              "#bd3786"
             ],
             [
              0.5555555555555556,
              "#d8576b"
             ],
             [
              0.6666666666666666,
              "#ed7953"
             ],
             [
              0.7777777777777778,
              "#fb9f3a"
             ],
             [
              0.8888888888888888,
              "#fdca26"
             ],
             [
              1,
              "#f0f921"
             ]
            ],
            "type": "surface"
           }
          ],
          "table": [
           {
            "cells": {
             "fill": {
              "color": "#EBF0F8"
             },
             "line": {
              "color": "white"
             }
            },
            "header": {
             "fill": {
              "color": "#C8D4E3"
             },
             "line": {
              "color": "white"
             }
            },
            "type": "table"
           }
          ]
         },
         "layout": {
          "annotationdefaults": {
           "arrowcolor": "#2a3f5f",
           "arrowhead": 0,
           "arrowwidth": 1
          },
          "autotypenumbers": "strict",
          "coloraxis": {
           "colorbar": {
            "outlinewidth": 0,
            "ticks": ""
           }
          },
          "colorscale": {
           "diverging": [
            [
             0,
             "#8e0152"
            ],
            [
             0.1,
             "#c51b7d"
            ],
            [
             0.2,
             "#de77ae"
            ],
            [
             0.3,
             "#f1b6da"
            ],
            [
             0.4,
             "#fde0ef"
            ],
            [
             0.5,
             "#f7f7f7"
            ],
            [
             0.6,
             "#e6f5d0"
            ],
            [
             0.7,
             "#b8e186"
            ],
            [
             0.8,
             "#7fbc41"
            ],
            [
             0.9,
             "#4d9221"
            ],
            [
             1,
             "#276419"
            ]
           ],
           "sequential": [
            [
             0,
             "#0d0887"
            ],
            [
             0.1111111111111111,
             "#46039f"
            ],
            [
             0.2222222222222222,
             "#7201a8"
            ],
            [
             0.3333333333333333,
             "#9c179e"
            ],
            [
             0.4444444444444444,
             "#bd3786"
            ],
            [
             0.5555555555555556,
             "#d8576b"
            ],
            [
             0.6666666666666666,
             "#ed7953"
            ],
            [
             0.7777777777777778,
             "#fb9f3a"
            ],
            [
             0.8888888888888888,
             "#fdca26"
            ],
            [
             1,
             "#f0f921"
            ]
           ],
           "sequentialminus": [
            [
             0,
             "#0d0887"
            ],
            [
             0.1111111111111111,
             "#46039f"
            ],
            [
             0.2222222222222222,
             "#7201a8"
            ],
            [
             0.3333333333333333,
             "#9c179e"
            ],
            [
             0.4444444444444444,
             "#bd3786"
            ],
            [
             0.5555555555555556,
             "#d8576b"
            ],
            [
             0.6666666666666666,
             "#ed7953"
            ],
            [
             0.7777777777777778,
             "#fb9f3a"
            ],
            [
             0.8888888888888888,
             "#fdca26"
            ],
            [
             1,
             "#f0f921"
            ]
           ]
          },
          "colorway": [
           "#636efa",
           "#EF553B",
           "#00cc96",
           "#ab63fa",
           "#FFA15A",
           "#19d3f3",
           "#FF6692",
           "#B6E880",
           "#FF97FF",
           "#FECB52"
          ],
          "font": {
           "color": "#2a3f5f"
          },
          "geo": {
           "bgcolor": "white",
           "lakecolor": "white",
           "landcolor": "#E5ECF6",
           "showlakes": true,
           "showland": true,
           "subunitcolor": "white"
          },
          "hoverlabel": {
           "align": "left"
          },
          "hovermode": "closest",
          "mapbox": {
           "style": "light"
          },
          "paper_bgcolor": "white",
          "plot_bgcolor": "#E5ECF6",
          "polar": {
           "angularaxis": {
            "gridcolor": "white",
            "linecolor": "white",
            "ticks": ""
           },
           "bgcolor": "#E5ECF6",
           "radialaxis": {
            "gridcolor": "white",
            "linecolor": "white",
            "ticks": ""
           }
          },
          "scene": {
           "xaxis": {
            "backgroundcolor": "#E5ECF6",
            "gridcolor": "white",
            "gridwidth": 2,
            "linecolor": "white",
            "showbackground": true,
            "ticks": "",
            "zerolinecolor": "white"
           },
           "yaxis": {
            "backgroundcolor": "#E5ECF6",
            "gridcolor": "white",
            "gridwidth": 2,
            "linecolor": "white",
            "showbackground": true,
            "ticks": "",
            "zerolinecolor": "white"
           },
           "zaxis": {
            "backgroundcolor": "#E5ECF6",
            "gridcolor": "white",
            "gridwidth": 2,
            "linecolor": "white",
            "showbackground": true,
            "ticks": "",
            "zerolinecolor": "white"
           }
          },
          "shapedefaults": {
           "line": {
            "color": "#2a3f5f"
           }
          },
          "ternary": {
           "aaxis": {
            "gridcolor": "white",
            "linecolor": "white",
            "ticks": ""
           },
           "baxis": {
            "gridcolor": "white",
            "linecolor": "white",
            "ticks": ""
           },
           "bgcolor": "#E5ECF6",
           "caxis": {
            "gridcolor": "white",
            "linecolor": "white",
            "ticks": ""
           }
          },
          "title": {
           "x": 0.05
          },
          "xaxis": {
           "automargin": true,
           "gridcolor": "white",
           "linecolor": "white",
           "ticks": "",
           "title": {
            "standoff": 15
           },
           "zerolinecolor": "white",
           "zerolinewidth": 2
          },
          "yaxis": {
           "automargin": true,
           "gridcolor": "white",
           "linecolor": "white",
           "ticks": "",
           "title": {
            "standoff": 15
           },
           "zerolinecolor": "white",
           "zerolinewidth": 2
          }
         }
        },
        "xaxis": {
         "anchor": "y",
         "domain": [
          0,
          1
         ],
         "title": {
          "text": "Date Snapshot"
         }
        },
        "yaxis": {
         "anchor": "x",
         "domain": [
          0,
          1
         ],
         "title": {
          "text": "value"
         }
        }
       }
      }
     },
     "metadata": {},
     "output_type": "display_data"
    }
   ],
   "source": [
    "#arup-isa\n",
    "# portfolio_df = pd.read_csv('portfolio-arup-isa.csv')\n",
    "# portfolio_df['Open date'] = pd.to_datetime(portfolio_df['Open date'])\n",
    "\n",
    "# symbols = portfolio_df.Symbol.unique()\n",
    "# stocks_start = datetime.datetime(2021, 5, 21)\n",
    "# stocks_end = datetime.datetime(2022, 11, 4)\n",
    "\n",
    "#Test\n",
    "# portfolio_df = pd.read_csv('test_stock_transactions.csv')\n",
    "# portfolio_df['Open date'] = pd.to_datetime(portfolio_df['Open date'])\n",
    "\n",
    "# symbols = portfolio_df.Symbol.unique()\n",
    "# stocks_start = datetime.datetime(2018, 6, 22)\n",
    "# stocks_end = datetime.datetime(2022, 11, 4)\n",
    "\n",
    "portfolio_df = pd.read_csv('portfolio-arup-sipp.csv')\n",
    "portfolio_df['Open date'] = pd.to_datetime(portfolio_df['Open date'])\n",
    "\n",
    "symbols = portfolio_df.Symbol.unique()\n",
    "stocks_start = datetime.datetime(2022, 8, 26)\n",
    "stocks_end = datetime.datetime(2022, 11, 4)\n",
    "\n",
    "daily_adj_close = get_data(symbols, stocks_start, stocks_end)\n",
    "daily_adj_close = daily_adj_close[['Close']].reset_index()\n",
    "daily_benchmark = get_benchmark(['SPY'], stocks_start, stocks_end)\n",
    "# daily_benchmark = get_benchmark(['^FTSE'], stocks_start, stocks_end)\n",
    "daily_benchmark = daily_benchmark[['Date', 'Close']]\n",
    "# market_cal = create_market_cal('LSE',stocks_start, stocks_end)\n",
    "market_cal = create_market_cal('NYSE',stocks_start, stocks_end)\n",
    "active_portfolio = portfolio_start_balance(portfolio_df, stocks_start)\n",
    "positions_per_day = time_fill(active_portfolio, market_cal)\n",
    "combined_df = per_day_portfolio_calcs(positions_per_day, daily_benchmark,\n",
    "                                      daily_adj_close, stocks_start)\n",
    "\n",
    "fig_price =  line_facets(combined_df, 'Ticker Return', 'Benchmark Return')\n",
    "fig_price.show()\n",
    "fig_price =  line(combined_df, 'Stock Gain / (Loss)', 'Benchmark Gain / (Loss)')\n",
    "fig_price.show()\n",
    "\n",
    "# active_portfolio = portfolio_start_balance(portfolio_df, stocks_start)\n",
    "# positions_per_day = time_fill(active_portfolio, market_cal)\n",
    "# combined_df = per_day_portfolio_calcs(positions_per_day, daily_benchmark,\n",
    "#                                       daily_adj_close, stocks_start)\n",
    "# fig_price = line_facets(combined_df, 'Ticker Return', 'Benchmark Return')\n",
    "# fig_price.show()\n",
    "# fig_price2 = line(combined_df, 'Stock Gain / (Loss)', 'Benchmark Gain / (Loss)')\n",
    "# fig_price2.show()"
   ]
  }
 ],
 "metadata": {
  "kernelspec": {
   "display_name": "Python 3.8.9 64-bit",
   "language": "python",
   "name": "python3"
  },
  "language_info": {
   "codemirror_mode": {
    "name": "ipython",
    "version": 3
   },
   "file_extension": ".py",
   "mimetype": "text/x-python",
   "name": "python",
   "nbconvert_exporter": "python",
   "pygments_lexer": "ipython3",
   "version": "3.8.9"
  },
  "orig_nbformat": 4,
  "vscode": {
   "interpreter": {
    "hash": "31f2aee4e71d21fbe5cf8b01ff0e069b9275f58929596ceb00d14d90e3e16cd6"
   }
  }
 },
 "nbformat": 4,
 "nbformat_minor": 2
}
